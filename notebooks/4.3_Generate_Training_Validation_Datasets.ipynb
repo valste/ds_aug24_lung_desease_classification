{
 "cells": [
  {
   "cell_type": "markdown",
   "id": "17134f7b",
   "metadata": {},
   "source": [
    "## Generate Training and Testing datasets\n",
    "This notebook will generate `Training` and `Testing` datasets used for training and testing our final model."
   ]
  },
  {
   "cell_type": "code",
   "execution_count": 1,
   "id": "4ff4249d",
   "metadata": {},
   "outputs": [],
   "source": [
    "# Auto reload modules\n",
    "%load_ext autoreload\n",
    "%autoreload 2"
   ]
  },
  {
   "cell_type": "code",
   "execution_count": 2,
   "id": "3357ef6f",
   "metadata": {},
   "outputs": [],
   "source": [
    "import sys\n",
    "sys.path.append(\"../\")"
   ]
  },
  {
   "cell_type": "code",
   "execution_count": null,
   "id": "dff5e544",
   "metadata": {},
   "outputs": [],
   "source": [
    "from src.preprocessing.image_augmentor import create_training_validation_datasers\n",
    "\n",
    "raw_data_dir = '../data/raw/dataset/masked_images'\n",
    "raw_training_val_dir = '../data/raw/dataset/masked_images_dataset'"
   ]
  },
  {
   "cell_type": "code",
   "execution_count": 4,
   "id": "b79637d9",
   "metadata": {},
   "outputs": [
    {
     "name": "stdout",
     "output_type": "stream",
     "text": [
      "Dataset split completed!\n"
     ]
    }
   ],
   "source": [
    "create_training_validation_datasers(\n",
    "    input_dir=raw_data_dir,  # original dataset folder\n",
    "    output_dir=raw_training_val_dir,     # output folder where train/ and val/ will be created\n",
    "    split_ratio=0.2           # 20% for validation\n",
    ")"
   ]
  }
 ],
 "metadata": {
  "kernelspec": {
   "display_name": "ds_covid19",
   "language": "python",
   "name": "ds_covid19"
  },
  "language_info": {
   "codemirror_mode": {
    "name": "ipython",
    "version": 3
   },
   "file_extension": ".py",
   "mimetype": "text/x-python",
   "name": "python",
   "nbconvert_exporter": "python",
   "pygments_lexer": "ipython3",
   "version": "3.12.8"
  }
 },
 "nbformat": 4,
 "nbformat_minor": 5
}

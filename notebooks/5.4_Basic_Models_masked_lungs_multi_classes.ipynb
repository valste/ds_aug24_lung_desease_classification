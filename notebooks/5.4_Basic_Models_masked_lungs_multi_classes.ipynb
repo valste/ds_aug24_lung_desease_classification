{
 "cells": [
  {
   "cell_type": "markdown",
   "metadata": {},
   "source": [
    "## Basic models - Masked lungs multiclasses\n",
    "This notebook is training and testing our model(s) using masked lung images and for classifying 4 classes `['COVID','NORMAL','Viral Pneumonia','Lung_Opacity']`."
   ]
  },
  {
   "cell_type": "markdown",
   "metadata": {},
   "source": [
    "For this notebook to find the new modules created for this project, we need to set its path to be in the root directory."
   ]
  },
  {
   "cell_type": "code",
   "execution_count": 1,
   "metadata": {},
   "outputs": [],
   "source": [
    "# Auto reload modules\n",
    "%load_ext autoreload\n",
    "%autoreload 2"
   ]
  },
  {
   "cell_type": "code",
   "execution_count": 2,
   "metadata": {},
   "outputs": [],
   "source": [
    "import sys\n",
    "sys.path.append(\"../\")"
   ]
  },
  {
   "cell_type": "markdown",
   "metadata": {},
   "source": [
    "## Loading packages and dependencies"
   ]
  },
  {
   "cell_type": "code",
   "execution_count": 3,
   "metadata": {},
   "outputs": [],
   "source": [
    "import numpy as np\n",
    "\n",
    "from src.features.extract_features import load_extracted_features\n",
    "from sklearn.model_selection import train_test_split\n",
    "from sklearn.preprocessing import StandardScaler\n",
    "from src.models.build_model import train_basic_supervised_model, evaluate_model\n",
    "\n",
    "\n",
    "# Path to the raw data and preprocessed data\n",
    "raw_data_dir = '../data/raw/dataset/masked_images'"
   ]
  },
  {
   "cell_type": "markdown",
   "metadata": {},
   "source": [
    "## Extracting features from images"
   ]
  },
  {
   "cell_type": "code",
   "execution_count": 4,
   "metadata": {},
   "outputs": [
    {
     "name": "stdout",
     "output_type": "stream",
     "text": [
      "Loaded images for NORMAL: 10192 resized images, 10192 features, and 10192 labels.\n",
      "Loaded images for COVID: 3616 resized images, 3616 features, and 3616 labels.\n",
      "Loaded images for Viral Pneumonia: 1345 resized images, 1345 features, and 1345 labels.\n",
      "Loaded images for Lung_Opacity: 6012 resized images, 6012 features, and 6012 labels.\n"
     ]
    }
   ],
   "source": [
    "X_normal, y_normal, _ = load_extracted_features(images_dir=raw_data_dir+'/{}',\n",
    "                                                    category='NORMAL', dataset_label=0)\n",
    "X_covid, y_covid, _ = load_extracted_features(images_dir=raw_data_dir+'/{}',\n",
    "                                                    category='COVID', dataset_label=1)\n",
    "X_pneumonia, y_pneumonia, _ = load_extracted_features(images_dir=raw_data_dir+'/{}',\n",
    "                                                    category='Viral Pneumonia', dataset_label=2)\n",
    "X_opacity, y_opacity, _ = load_extracted_features(images_dir=raw_data_dir+'/{}',\n",
    "                                                    category='Lung_Opacity', dataset_label=3)"
   ]
  },
  {
   "cell_type": "markdown",
   "metadata": {},
   "source": [
    "## Normalizing features"
   ]
  },
  {
   "cell_type": "code",
   "execution_count": 5,
   "metadata": {},
   "outputs": [
    {
     "name": "stdout",
     "output_type": "stream",
     "text": [
      "X_train shape: (16932, 14), y_train shape: (16932,)\n",
      "X_test shape: (4233, 14), y_test shape: (4233,)\n"
     ]
    }
   ],
   "source": [
    "# Combine datasets\n",
    "X = np.vstack((X_normal, X_covid, X_pneumonia, X_opacity))\n",
    "y = np.concatenate((y_normal, y_covid, y_pneumonia, y_opacity))\n",
    "\n",
    "X_train, X_test, y_train, y_test = train_test_split(X, y, test_size=0.2, random_state=42)\n",
    "print(f\"X_train shape: {X_train.shape}, y_train shape: {y_train.shape}\")\n",
    "print(f\"X_test shape: {X_test.shape}, y_test shape: {y_test.shape}\")\n",
    "\n",
    "# Normalize features\n",
    "scaler = StandardScaler()\n",
    "X_train = scaler.fit_transform(X_train)\n",
    "X_test = scaler.transform(X_test)"
   ]
  },
  {
   "cell_type": "markdown",
   "metadata": {},
   "source": [
    "## Training and evaluating models"
   ]
  },
  {
   "cell_type": "markdown",
   "metadata": {},
   "source": [
    "### Logistic regression"
   ]
  },
  {
   "cell_type": "markdown",
   "metadata": {},
   "source": [
    "✅ Strengths:\n",
    "* Simple, fast, and interpretable.\n",
    "* Works well when features are linearly separable.\n",
    "\n",
    "❌ Weaknesses:\n",
    "* Struggles with complex, non-linear relationships.\n",
    "* Sensitive to outliers."
   ]
  },
  {
   "cell_type": "markdown",
   "metadata": {},
   "source": [
    "Using GridSearchCV, the tuned hyperparameters based on the features used in this notebook are:\n",
    "\n",
    "{'C': 0.1, 'class_weight': None, 'max_iter': 100, 'penalty': 'l1', 'solver': 'liblinear'}"
   ]
  },
  {
   "cell_type": "code",
   "execution_count": null,
   "metadata": {},
   "outputs": [
    {
     "name": "stdout",
     "output_type": "stream",
     "text": [
      "Computed Class Weights:{0: 0.5202802359882006, 1: 1.4667359667359667, 2: 3.9450139794967383, 3: 0.875129212321687} labels: [0 1 2 3]\n"
     ]
    },
    {
     "name": "stderr",
     "output_type": "stream",
     "text": [
      "/Users/rehabaam/codes/python/datascientest/project/ds_covid19_project/.ds_covid19/lib/python3.12/site-packages/sklearn/svm/_base.py:1235: ConvergenceWarning: Liblinear failed to converge, increase the number of iterations.\n",
      "  warnings.warn(\n",
      "Registered model 'sklearn-Logistic Regression-multiclass' already exists. Creating a new version of this model...\n",
      "2025/04/14 07:40:38 INFO mlflow.store.model_registry.abstract_store: Waiting up to 300 seconds for model version to finish creation. Model name: sklearn-Logistic Regression-multiclass, version 2\n"
     ]
    },
    {
     "name": "stdout",
     "output_type": "stream",
     "text": [
      "🏃 View run Logistic Regression-multiclass at: http://localhost:8080/#/experiments/629108935222992872/runs/09bcaeffca8d4ed69632d40685f52f8e\n",
      "🧪 View experiment at: http://localhost:8080/#/experiments/629108935222992872\n",
      "Classification Accuracy: 0.6097\n",
      "Classification Report:\n",
      "               precision    recall  f1-score   support\n",
      "\n",
      "           0       0.72      0.69      0.70      2056\n",
      "           1       0.42      0.29      0.34       730\n",
      "           2       0.36      0.76      0.49       272\n",
      "           3       0.63      0.63      0.63      1175\n",
      "\n",
      "    accuracy                           0.61      4233\n",
      "   macro avg       0.53      0.59      0.54      4233\n",
      "weighted avg       0.62      0.61      0.61      4233\n",
      "\n"
     ]
    },
    {
     "name": "stderr",
     "output_type": "stream",
     "text": [
      "Created version '2' of model 'sklearn-Logistic Regression-multiclass'.\n"
     ]
    }
   ],
   "source": [
    "model = train_basic_supervised_model(X_train, y_train, model_type='Logistic Regression')\n",
    "\n",
    "accuracy_score, report = evaluate_model(\"Multi-label classification [Normal, COVID, Viral Pneumonia, Lung_Opacity] for masked images\", \n",
    "                                        model, X_test, y_test, model_type='Logistic Regression', \n",
    "                                        classification_type=\"multiclass\")\n",
    "\n",
    "print(f\"Classification Accuracy: {accuracy_score:.4f}\")\n",
    "print(\"Classification Report:\\n\", report)"
   ]
  },
  {
   "cell_type": "markdown",
   "metadata": {},
   "source": [
    "### SVM"
   ]
  },
  {
   "cell_type": "markdown",
   "metadata": {},
   "source": [
    "✅ Strengths:\n",
    "\n",
    "* Works well on high-dimensional data.\n",
    "* Effective on small datasets.\n",
    "* Handles outliers better than logistic regression.\n",
    "\n",
    "❌ Weaknesses:\n",
    "\n",
    "* Slow on large datasets (especially with RBF kernel).\n",
    "* Sensitive to hyperparameters (C, γ, degree).\n",
    "* Difficult to interpret compared to logistic regression."
   ]
  },
  {
   "cell_type": "markdown",
   "metadata": {},
   "source": [
    "#### RBF kernel"
   ]
  },
  {
   "cell_type": "code",
   "execution_count": null,
   "metadata": {},
   "outputs": [
    {
     "name": "stdout",
     "output_type": "stream",
     "text": [
      "Computed Class Weights:{0: 0.5202802359882006, 1: 1.4667359667359667, 2: 3.9450139794967383, 3: 0.875129212321687} labels: [0 1 2 3]\n"
     ]
    },
    {
     "name": "stderr",
     "output_type": "stream",
     "text": [
      "Registered model 'sklearn-SVM RBF-multiclass' already exists. Creating a new version of this model...\n",
      "2025/04/14 07:40:50 INFO mlflow.store.model_registry.abstract_store: Waiting up to 300 seconds for model version to finish creation. Model name: sklearn-SVM RBF-multiclass, version 2\n"
     ]
    },
    {
     "name": "stdout",
     "output_type": "stream",
     "text": [
      "🏃 View run SVM RBF-multiclass at: http://localhost:8080/#/experiments/629108935222992872/runs/29edf54b0f8d42d6b65f6bfe03a4ef1b\n",
      "🧪 View experiment at: http://localhost:8080/#/experiments/629108935222992872\n",
      "Classification Accuracy: 0.6171\n",
      "Classification Report:\n",
      "               precision    recall  f1-score   support\n",
      "\n",
      "           0       0.84      0.60      0.70      2056\n",
      "           1       0.43      0.64      0.51       730\n",
      "           2       0.33      0.85      0.47       272\n",
      "           3       0.70      0.58      0.63      1175\n",
      "\n",
      "    accuracy                           0.62      4233\n",
      "   macro avg       0.57      0.67      0.58      4233\n",
      "weighted avg       0.70      0.62      0.64      4233\n",
      "\n"
     ]
    },
    {
     "name": "stderr",
     "output_type": "stream",
     "text": [
      "Created version '2' of model 'sklearn-SVM RBF-multiclass'.\n"
     ]
    }
   ],
   "source": [
    "model = train_basic_supervised_model(X_train, y_train, model_type='SVM RBF')\n",
    "\n",
    "accuracy_score, report = evaluate_model(\"Multi-label classification [Normal, COVID, Viral Pneumonia, Lung_Opacity] for masked images\", \n",
    "                                        model, X_test, y_test, model_type='SVM RBF', \n",
    "                                        classification_type=\"multiclass\")\n",
    "\n",
    "print(f\"Classification Accuracy: {accuracy_score:.4f}\")\n",
    "print(\"Classification Report:\\n\", report)"
   ]
  },
  {
   "cell_type": "markdown",
   "metadata": {},
   "source": [
    "#### Linear kernel"
   ]
  },
  {
   "cell_type": "code",
   "execution_count": null,
   "metadata": {},
   "outputs": [
    {
     "name": "stdout",
     "output_type": "stream",
     "text": [
      "Computed Class Weights:{0: 0.5202802359882006, 1: 1.4667359667359667, 2: 3.9450139794967383, 3: 0.875129212321687} labels: [0 1 2 3]\n"
     ]
    },
    {
     "name": "stderr",
     "output_type": "stream",
     "text": [
      "Registered model 'sklearn-SVM Linear-multiclass' already exists. Creating a new version of this model...\n",
      "2025/04/14 07:41:22 INFO mlflow.store.model_registry.abstract_store: Waiting up to 300 seconds for model version to finish creation. Model name: sklearn-SVM Linear-multiclass, version 2\n"
     ]
    },
    {
     "name": "stdout",
     "output_type": "stream",
     "text": [
      "🏃 View run SVM Linear-multiclass at: http://localhost:8080/#/experiments/629108935222992872/runs/1710b94f5bc64f8fa5a7378b524e01a1\n",
      "🧪 View experiment at: http://localhost:8080/#/experiments/629108935222992872\n",
      "Classification Accuracy: 0.5941\n",
      "Classification Report:\n",
      "               precision    recall  f1-score   support\n",
      "\n",
      "           0       0.78      0.60      0.68      2056\n",
      "           1       0.39      0.53      0.45       730\n",
      "           2       0.32      0.86      0.47       272\n",
      "           3       0.71      0.56      0.63      1175\n",
      "\n",
      "    accuracy                           0.59      4233\n",
      "   macro avg       0.55      0.64      0.56      4233\n",
      "weighted avg       0.66      0.59      0.61      4233\n",
      "\n"
     ]
    },
    {
     "name": "stderr",
     "output_type": "stream",
     "text": [
      "Created version '2' of model 'sklearn-SVM Linear-multiclass'.\n"
     ]
    }
   ],
   "source": [
    "model = train_basic_supervised_model(X_train, y_train, model_type='SVM Linear')\n",
    "\n",
    "accuracy_score, report = evaluate_model(\"Multi-label classification [Normal, COVID, Viral Pneumonia, Lung_Opacity] for masked images\", \n",
    "                                        model, X_test, y_test, model_type='SVM Linear', \n",
    "                                        classification_type=\"multiclass\")\n",
    "\n",
    "print(f\"Classification Accuracy: {accuracy_score:.4f}\")\n",
    "print(\"Classification Report:\\n\", report)"
   ]
  },
  {
   "cell_type": "markdown",
   "metadata": {},
   "source": [
    "### Random Forest"
   ]
  },
  {
   "cell_type": "markdown",
   "metadata": {},
   "source": [
    "✅ Strengths\n",
    "* High Accuracy – Performs well on complex datasets.\n",
    "* Robust to Noise – Handles missing data and outliers well.\n",
    "* Works with Categorical & Numerical Features.\n",
    "\n",
    "❌ Weaknesses\n",
    "* Slow on Large Datasets – Many trees increase computation time.\n",
    "* Less Interpretable – Harder to understand than Logistic Regression.\n",
    "* Memory Intensive – Requires more RAM compared to simpler models."
   ]
  },
  {
   "cell_type": "markdown",
   "metadata": {},
   "source": [
    "Using GridSearchCV, the tuned hyperparameters based on the features used in this notebook are:\n",
    "\n",
    "{'class_weight': None, 'max_depth': 20, 'max_features': 'sqrt', 'min_samples_leaf': 1, 'min_samples_split': 2, 'n_estimators': 500}"
   ]
  },
  {
   "cell_type": "code",
   "execution_count": null,
   "metadata": {},
   "outputs": [
    {
     "name": "stdout",
     "output_type": "stream",
     "text": [
      "Computed Class Weights:{0: 0.5202802359882006, 1: 1.4667359667359667, 2: 3.9450139794967383, 3: 0.875129212321687} labels: [0 1 2 3]\n"
     ]
    },
    {
     "name": "stderr",
     "output_type": "stream",
     "text": [
      "Registered model 'sklearn-Random Forest-multiclass' already exists. Creating a new version of this model...\n",
      "2025/04/14 07:41:41 INFO mlflow.store.model_registry.abstract_store: Waiting up to 300 seconds for model version to finish creation. Model name: sklearn-Random Forest-multiclass, version 2\n"
     ]
    },
    {
     "name": "stdout",
     "output_type": "stream",
     "text": [
      "🏃 View run Random Forest-multiclass at: http://localhost:8080/#/experiments/629108935222992872/runs/988e220d1c5a428093d05dc38f8f07c8\n",
      "🧪 View experiment at: http://localhost:8080/#/experiments/629108935222992872\n",
      "Classification Accuracy: 0.6856\n",
      "Classification Report:\n",
      "               precision    recall  f1-score   support\n",
      "\n",
      "           0       0.73      0.85      0.78      2056\n",
      "           1       0.60      0.42      0.49       730\n",
      "           2       0.56      0.41      0.47       272\n",
      "           3       0.66      0.63      0.64      1175\n",
      "\n",
      "    accuracy                           0.69      4233\n",
      "   macro avg       0.64      0.58      0.60      4233\n",
      "weighted avg       0.68      0.69      0.67      4233\n",
      "\n"
     ]
    },
    {
     "name": "stderr",
     "output_type": "stream",
     "text": [
      "Created version '2' of model 'sklearn-Random Forest-multiclass'.\n"
     ]
    }
   ],
   "source": [
    "model = train_basic_supervised_model(X_train, y_train, model_type='Random Forest')\n",
    "\n",
    "accuracy_score, report = evaluate_model(\"Multi-label classification [Normal, COVID, Viral Pneumonia, Lung_Opacity] for masked images\", \n",
    "                                        model, X_test, y_test, model_type='Random Forest', \n",
    "                                        classification_type=\"multiclass\")\n",
    "\n",
    "print(f\"Classification Accuracy: {accuracy_score:.4f}\")\n",
    "print(\"Classification Report:\\n\", report)"
   ]
  },
  {
   "cell_type": "markdown",
   "metadata": {},
   "source": [
    "### Catboost"
   ]
  },
  {
   "cell_type": "markdown",
   "metadata": {},
   "source": [
    "✅ Strengths\n",
    "* Handles categorical features natively (no need for one-hot encoding).\n",
    "* Great for imbalanced data (built-in loss functions).\n",
    "* Avoids overfitting using ordered boosting.\n",
    "* Faster training than XGBoost & LightGBM.\n",
    "* Works well with small datasets (better than deep learning in low-data settings).\n",
    "* Automatically handles missing values.\n",
    "* Requires minimal hyperparameter tuning.\n",
    "\n",
    "❌ Weaknesses\n",
    "* Slower inference than LightGBM (not ideal for real-time applications).\n",
    "* Higher memory usage (uses more RAM than XGBoost).\n",
    "* Smaller community support (troubleshooting is harder than XGBoost).\n",
    "* Limited GPU acceleration (only supports specific settings).\n",
    "* Not the best for highly sparse data (LightGBM may be better)."
   ]
  },
  {
   "cell_type": "code",
   "execution_count": 10,
   "metadata": {},
   "outputs": [
    {
     "name": "stdout",
     "output_type": "stream",
     "text": [
      "Computed Class Weights:{0: 0.5202802359882006, 1: 1.4667359667359667, 2: 3.9450139794967383, 3: 0.875129212321687} labels: [0 1 2 3]\n",
      "0:\tlearn: 1.3665902\ttotal: 62.9ms\tremaining: 31.4s\n",
      "100:\tlearn: 1.0100573\ttotal: 344ms\tremaining: 1.36s\n",
      "200:\tlearn: 0.9261526\ttotal: 626ms\tremaining: 931ms\n",
      "300:\tlearn: 0.8677810\ttotal: 902ms\tremaining: 596ms\n",
      "400:\tlearn: 0.8240651\ttotal: 1.18s\tremaining: 291ms\n",
      "499:\tlearn: 0.7914557\ttotal: 1.46s\tremaining: 0us\n"
     ]
    },
    {
     "name": "stderr",
     "output_type": "stream",
     "text": [
      "Registered model 'sklearn-CatBoost-multiclass' already exists. Creating a new version of this model...\n",
      "2025/04/14 07:41:45 INFO mlflow.store.model_registry.abstract_store: Waiting up to 300 seconds for model version to finish creation. Model name: sklearn-CatBoost-multiclass, version 2\n"
     ]
    },
    {
     "name": "stdout",
     "output_type": "stream",
     "text": [
      "🏃 View run CatBoost-multiclass at: http://localhost:8080/#/experiments/629108935222992872/runs/dab9ecb347a84f3eba0a9be57400c7c3\n",
      "🧪 View experiment at: http://localhost:8080/#/experiments/629108935222992872\n",
      "Classification Accuracy: 0.6199\n",
      "Classification Report:\n",
      "               precision    recall  f1-score   support\n",
      "\n",
      "           0       0.82      0.64      0.72      2056\n",
      "           1       0.44      0.58      0.50       730\n",
      "           2       0.32      0.80      0.45       272\n",
      "           3       0.68      0.57      0.62      1175\n",
      "\n",
      "    accuracy                           0.62      4233\n",
      "   macro avg       0.56      0.65      0.57      4233\n",
      "weighted avg       0.68      0.62      0.64      4233\n",
      "\n"
     ]
    },
    {
     "name": "stderr",
     "output_type": "stream",
     "text": [
      "Created version '2' of model 'sklearn-CatBoost-multiclass'.\n"
     ]
    }
   ],
   "source": [
    "model = train_basic_supervised_model(X_train, y_train, model_type='CatBoost_Multi')\n",
    "\n",
    "accuracy_score, report = evaluate_model(\"Multi-label classification [Normal, COVID, Viral Pneumonia, Lung_Opacity] for masked images\", model, X_test, y_test, model_type='CatBoost', classification_type=\"multiclass\")\n",
    "\n",
    "print(f\"Classification Accuracy: {accuracy_score:.4f}\")\n",
    "print(\"Classification Report:\\n\", report)"
   ]
  }
 ],
 "metadata": {
  "kernelspec": {
   "display_name": "ds_covid19",
   "language": "python",
   "name": "ds_covid19"
  },
  "language_info": {
   "codemirror_mode": {
    "name": "ipython",
    "version": 3
   },
   "file_extension": ".py",
   "mimetype": "text/x-python",
   "name": "python",
   "nbconvert_exporter": "python",
   "pygments_lexer": "ipython3",
   "version": "3.12.8"
  }
 },
 "nbformat": 4,
 "nbformat_minor": 2
}

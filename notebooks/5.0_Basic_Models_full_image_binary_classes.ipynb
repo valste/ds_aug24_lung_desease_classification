{
 "cells": [
  {
   "cell_type": "markdown",
   "metadata": {},
   "source": [
    "## Basic models - Full image binary classes\n",
    "This notebook is training and testing our model(s) using the full images and for classifying 2 classes `['Normal/Healthy','SICK']`."
   ]
  },
  {
   "cell_type": "markdown",
   "metadata": {},
   "source": [
    "For this notebook to find the new modules created for this project, we need to set its path to be in the root directory."
   ]
  },
  {
   "cell_type": "code",
   "execution_count": 1,
   "metadata": {},
   "outputs": [],
   "source": [
    "# Auto reload modules\n",
    "%load_ext autoreload\n",
    "%autoreload 2"
   ]
  },
  {
   "cell_type": "code",
   "execution_count": 2,
   "metadata": {},
   "outputs": [],
   "source": [
    "import sys\n",
    "sys.path.append(\"../\")"
   ]
  },
  {
   "cell_type": "markdown",
   "metadata": {},
   "source": [
    "## Loading packages and dependencies"
   ]
  },
  {
   "cell_type": "code",
   "execution_count": 3,
   "metadata": {},
   "outputs": [],
   "source": [
    "import numpy as np\n",
    "\n",
    "from src.features.extract_features import load_extracted_features\n",
    "from sklearn.model_selection import train_test_split\n",
    "from sklearn.preprocessing import StandardScaler\n",
    "from src.models.build_model import train_basic_supervised_model, evaluate_model\n",
    "\n",
    "\n",
    "# Path to the raw data and preprocessed data\n",
    "raw_data_dir = '../data/raw/dataset/images'"
   ]
  },
  {
   "cell_type": "markdown",
   "metadata": {},
   "source": [
    "## Extracting features from images"
   ]
  },
  {
   "cell_type": "code",
   "execution_count": null,
   "metadata": {},
   "outputs": [],
   "source": [
    "X_healthy, y_healthy, _ = load_extracted_features(images_dir=raw_data_dir+'/{}',\n",
    "                                                       category='NORMAL', dataset_label=0)\n",
    "X_sick, y_sick, _ = load_extracted_features(images_dir=raw_data_dir+'/{}',\n",
    "                                            category=['COVID','Viral Pneumonia','Lung_Opacity'], dataset_label=1)"
   ]
  },
  {
   "cell_type": "markdown",
   "metadata": {},
   "source": [
    "## Normalizing features"
   ]
  },
  {
   "cell_type": "code",
   "execution_count": 5,
   "metadata": {},
   "outputs": [
    {
     "name": "stdout",
     "output_type": "stream",
     "text": [
      "X_train shape: (16932, 14), y_train shape: (16932,)\n",
      "X_test shape: (4233, 14), y_test shape: (4233,)\n"
     ]
    }
   ],
   "source": [
    "# Combine datasets\n",
    "X = np.vstack((X_healthy, X_sick))\n",
    "y = np.concatenate((y_healthy, y_sick))\n",
    "\n",
    "X_train, X_test, y_train, y_test = train_test_split(X, y, test_size=0.2, random_state=42)\n",
    "print(f\"X_train shape: {X_train.shape}, y_train shape: {y_train.shape}\")\n",
    "print(f\"X_test shape: {X_test.shape}, y_test shape: {y_test.shape}\")\n",
    "\n",
    "# Normalize features\n",
    "scaler = StandardScaler()\n",
    "X_train = scaler.fit_transform(X_train)\n",
    "X_test = scaler.transform(X_test)"
   ]
  },
  {
   "cell_type": "markdown",
   "metadata": {},
   "source": [
    "## Training and evaluating models"
   ]
  },
  {
   "cell_type": "markdown",
   "metadata": {},
   "source": [
    "### Logistic regression"
   ]
  },
  {
   "cell_type": "markdown",
   "metadata": {},
   "source": [
    "✅ Strengths:\n",
    "* Simple, fast, and interpretable.\n",
    "* Works well when features are linearly separable.\n",
    "\n",
    "❌ Weaknesses:\n",
    "* Struggles with complex, non-linear relationships.\n",
    "* Sensitive to outliers."
   ]
  },
  {
   "cell_type": "markdown",
   "metadata": {},
   "source": [
    "Using GridSearchCV, the tuned hyperparameters based on the features used in this notebook are:\n",
    "\n",
    "{'C': 0.1, 'class_weight': None, 'max_iter': 100, 'penalty': 'l1', 'solver': 'liblinear'}"
   ]
  },
  {
   "cell_type": "code",
   "execution_count": null,
   "metadata": {},
   "outputs": [
    {
     "name": "stdout",
     "output_type": "stream",
     "text": [
      "Computed Class Weights:{0: 1.0405604719764012, 1: 0.9624829467939973} labels: [0 1]\n"
     ]
    },
    {
     "name": "stderr",
     "output_type": "stream",
     "text": [
      "2025/04/14 07:33:54 INFO mlflow.tracking.fluent: Experiment with name 'Basic Supervised Models' does not exist. Creating a new experiment.\n",
      "Successfully registered model 'sklearn-Logistic Regression-binary'.\n",
      "2025/04/14 07:33:59 INFO mlflow.store.model_registry.abstract_store: Waiting up to 300 seconds for model version to finish creation. Model name: sklearn-Logistic Regression-binary, version 1\n"
     ]
    },
    {
     "name": "stdout",
     "output_type": "stream",
     "text": [
      "🏃 View run Logistic Regression-binary at: http://localhost:8080/#/experiments/629108935222992872/runs/412790f062ec46e59d1ed15f79122733\n",
      "🧪 View experiment at: http://localhost:8080/#/experiments/629108935222992872\n",
      "Classification Accuracy: 0.7368\n",
      "Classification Report:\n",
      "               precision    recall  f1-score   support\n",
      "\n",
      "           0       0.73      0.73      0.73      2056\n",
      "           1       0.74      0.75      0.74      2177\n",
      "\n",
      "    accuracy                           0.74      4233\n",
      "   macro avg       0.74      0.74      0.74      4233\n",
      "weighted avg       0.74      0.74      0.74      4233\n",
      "\n"
     ]
    },
    {
     "name": "stderr",
     "output_type": "stream",
     "text": [
      "Created version '1' of model 'sklearn-Logistic Regression-binary'.\n"
     ]
    }
   ],
   "source": [
    "model = train_basic_supervised_model(X_train, y_train, model_type='Logistic Regression')\n",
    "\n",
    "accuracy_score, report = evaluate_model(\"Binary classification [Normal, Others] for images without masks\", \n",
    "                                        model, X_test, y_test, model_type='Logistic Regression', classification_type=\"binary\")\n",
    "\n",
    "print(f\"Classification Accuracy: {accuracy_score:.4f}\")\n",
    "print(\"Classification Report:\\n\", report)"
   ]
  },
  {
   "cell_type": "markdown",
   "metadata": {},
   "source": [
    "### SVM"
   ]
  },
  {
   "cell_type": "markdown",
   "metadata": {},
   "source": [
    "✅ Strengths:\n",
    "\n",
    "* Works well on high-dimensional data.\n",
    "* Effective on small datasets.\n",
    "* Handles outliers better than logistic regression.\n",
    "\n",
    "❌ Weaknesses:\n",
    "\n",
    "* Slow on large datasets (especially with RBF kernel).\n",
    "* Sensitive to hyperparameters (C, γ, degree).\n",
    "* Difficult to interpret compared to logistic regression."
   ]
  },
  {
   "cell_type": "markdown",
   "metadata": {},
   "source": [
    "#### RBF kernel"
   ]
  },
  {
   "cell_type": "code",
   "execution_count": null,
   "metadata": {},
   "outputs": [
    {
     "name": "stdout",
     "output_type": "stream",
     "text": [
      "Computed Class Weights:{0: 1.0405604719764012, 1: 0.9624829467939973} labels: [0 1]\n"
     ]
    },
    {
     "name": "stderr",
     "output_type": "stream",
     "text": [
      "Successfully registered model 'sklearn-SVM RBF-binary'.\n",
      "2025/04/14 07:34:08 INFO mlflow.store.model_registry.abstract_store: Waiting up to 300 seconds for model version to finish creation. Model name: sklearn-SVM RBF-binary, version 1\n"
     ]
    },
    {
     "name": "stdout",
     "output_type": "stream",
     "text": [
      "🏃 View run SVM RBF-binary at: http://localhost:8080/#/experiments/629108935222992872/runs/a91ef95de82045cdb22b635e110d4375\n",
      "🧪 View experiment at: http://localhost:8080/#/experiments/629108935222992872\n",
      "Classification Accuracy: 0.8148\n",
      "Classification Report:\n",
      "               precision    recall  f1-score   support\n",
      "\n",
      "           0       0.82      0.80      0.81      2056\n",
      "           1       0.81      0.83      0.82      2177\n",
      "\n",
      "    accuracy                           0.81      4233\n",
      "   macro avg       0.81      0.81      0.81      4233\n",
      "weighted avg       0.81      0.81      0.81      4233\n",
      "\n"
     ]
    },
    {
     "name": "stderr",
     "output_type": "stream",
     "text": [
      "Created version '1' of model 'sklearn-SVM RBF-binary'.\n"
     ]
    }
   ],
   "source": [
    "model = train_basic_supervised_model(X_train, y_train, model_type='SVM RBF')\n",
    "\n",
    "accuracy_score, report = evaluate_model(\"Binary classification [Normal, Others] for images without masks\", \n",
    "                                        model, X_test, y_test, model_type='SVM RBF', classification_type=\"binary\")\n",
    "\n",
    "print(f\"Classification Accuracy: {accuracy_score:.4f}\")\n",
    "print(\"Classification Report:\\n\", report)"
   ]
  },
  {
   "cell_type": "markdown",
   "metadata": {},
   "source": [
    "#### Linear kernel"
   ]
  },
  {
   "cell_type": "code",
   "execution_count": null,
   "metadata": {},
   "outputs": [],
   "source": [
    "model = train_basic_supervised_model(X_train, y_train, model_type='SVM Linear')"
   ]
  },
  {
   "cell_type": "code",
   "execution_count": null,
   "metadata": {},
   "outputs": [
    {
     "name": "stdout",
     "output_type": "stream",
     "text": [
      "Computed Class Weights:{0: 1.0405604719764012, 1: 0.9624829467939973} labels: [0 1]\n"
     ]
    },
    {
     "name": "stderr",
     "output_type": "stream",
     "text": [
      "Successfully registered model 'sklearn-SVM Linear-binary'.\n",
      "2025/04/14 07:34:35 INFO mlflow.store.model_registry.abstract_store: Waiting up to 300 seconds for model version to finish creation. Model name: sklearn-SVM Linear-binary, version 1\n"
     ]
    },
    {
     "name": "stdout",
     "output_type": "stream",
     "text": [
      "🏃 View run SVM Linear-binary at: http://localhost:8080/#/experiments/629108935222992872/runs/26d71f39f1e94a64b32de0f016c55b49\n",
      "🧪 View experiment at: http://localhost:8080/#/experiments/629108935222992872\n",
      "Classification Accuracy: 0.7432\n",
      "Classification Report:\n",
      "               precision    recall  f1-score   support\n",
      "\n",
      "           0       0.75      0.70      0.73      2056\n",
      "           1       0.74      0.78      0.76      2177\n",
      "\n",
      "    accuracy                           0.74      4233\n",
      "   macro avg       0.74      0.74      0.74      4233\n",
      "weighted avg       0.74      0.74      0.74      4233\n",
      "\n"
     ]
    },
    {
     "name": "stderr",
     "output_type": "stream",
     "text": [
      "Created version '1' of model 'sklearn-SVM Linear-binary'.\n"
     ]
    }
   ],
   "source": [
    "\n",
    "accuracy_score, report = evaluate_model(\"Binary classification [Normal, Others] for images without masks\", model, X_test, y_test, model_type='SVM Linear', classification_type=\"binary\")\n",
    "\n",
    "print(f\"Classification Accuracy: {accuracy_score:.4f}\")\n",
    "print(\"Classification Report:\\n\", report)"
   ]
  },
  {
   "cell_type": "markdown",
   "metadata": {},
   "source": [
    "### Linear Regression"
   ]
  },
  {
   "cell_type": "markdown",
   "metadata": {},
   "source": [
    "✅ Strengths\n",
    "* Simple and Fast – Easy to implement and interpret.\n",
    "* Works Well for Linearly Related Data.\n",
    "* Low Computational Cost – Efficient on small datasets.\n",
    "\n",
    "❌ Weaknesses\n",
    "* Assumes a Linear Relationship – Struggles with non-linear patterns.\n",
    "* Sensitive to Outliers – A few extreme values can skew results.\n",
    "* Multicollinearity Issues – Highly correlated features can reduce accuracy."
   ]
  },
  {
   "cell_type": "code",
   "execution_count": null,
   "metadata": {},
   "outputs": [
    {
     "name": "stdout",
     "output_type": "stream",
     "text": [
      "Computed Class Weights:{0: 1.0405604719764012, 1: 0.9624829467939973} labels: [0 1]\n"
     ]
    },
    {
     "name": "stderr",
     "output_type": "stream",
     "text": [
      "Successfully registered model 'sklearn-Linear Regression-binary'.\n",
      "2025/04/14 07:34:39 INFO mlflow.store.model_registry.abstract_store: Waiting up to 300 seconds for model version to finish creation. Model name: sklearn-Linear Regression-binary, version 1\n"
     ]
    },
    {
     "name": "stdout",
     "output_type": "stream",
     "text": [
      "🏃 View run Linear Regression-binary at: http://localhost:8080/#/experiments/629108935222992872/runs/e56e45a2ced0452da575754691598ecf\n",
      "🧪 View experiment at: http://localhost:8080/#/experiments/629108935222992872\n",
      "Classification Accuracy: 0.7323\n",
      "Classification Report:\n",
      "               precision    recall  f1-score   support\n",
      "\n",
      "           0       0.73      0.72      0.72      2056\n",
      "           1       0.74      0.75      0.74      2177\n",
      "\n",
      "    accuracy                           0.73      4233\n",
      "   macro avg       0.73      0.73      0.73      4233\n",
      "weighted avg       0.73      0.73      0.73      4233\n",
      "\n"
     ]
    },
    {
     "name": "stderr",
     "output_type": "stream",
     "text": [
      "Created version '1' of model 'sklearn-Linear Regression-binary'.\n"
     ]
    }
   ],
   "source": [
    "model = train_basic_supervised_model(X_train, y_train, model_type='Linear Regression')\n",
    "\n",
    "accuracy_score, report = evaluate_model(\"Binary classification [Normal, Others] for images without masks\", \n",
    "                                        model, X_test, y_test, model_type='Linear Regression', classification_type=\"binary\")\n",
    "\n",
    "print(f\"Classification Accuracy: {accuracy_score:.4f}\")\n",
    "print(\"Classification Report:\\n\", report)"
   ]
  },
  {
   "cell_type": "markdown",
   "metadata": {},
   "source": [
    "### Random Forest"
   ]
  },
  {
   "cell_type": "markdown",
   "metadata": {},
   "source": [
    "✅ Strengths\n",
    "* High Accuracy – Performs well on complex datasets.\n",
    "* Robust to Noise – Handles missing data and outliers well.\n",
    "* Works with Categorical & Numerical Features.\n",
    "\n",
    "❌ Weaknesses\n",
    "* Slow on Large Datasets – Many trees increase computation time.\n",
    "* Less Interpretable – Harder to understand than Logistic Regression.\n",
    "* Memory Intensive – Requires more RAM compared to simpler models."
   ]
  },
  {
   "cell_type": "markdown",
   "metadata": {},
   "source": [
    "Using GridSearchCV, the tuned hyperparameters based on the features used in this notebook are:\n",
    "\n",
    "{'class_weight': None, 'max_depth': 20, 'max_features': 'sqrt', 'min_samples_leaf': 1, 'min_samples_split': 2, 'n_estimators': 500}"
   ]
  },
  {
   "cell_type": "code",
   "execution_count": null,
   "metadata": {},
   "outputs": [
    {
     "name": "stdout",
     "output_type": "stream",
     "text": [
      "Computed Class Weights:{0: 1.0405604719764012, 1: 0.9624829467939973} labels: [0 1]\n"
     ]
    },
    {
     "name": "stderr",
     "output_type": "stream",
     "text": [
      "Successfully registered model 'sklearn-Random Forest-binary'.\n",
      "2025/04/14 07:34:58 INFO mlflow.store.model_registry.abstract_store: Waiting up to 300 seconds for model version to finish creation. Model name: sklearn-Random Forest-binary, version 1\n"
     ]
    },
    {
     "name": "stdout",
     "output_type": "stream",
     "text": [
      "🏃 View run Random Forest-binary at: http://localhost:8080/#/experiments/629108935222992872/runs/05676bec71874f3b930e7bdd9dbbe913\n",
      "🧪 View experiment at: http://localhost:8080/#/experiments/629108935222992872\n",
      "Classification Accuracy: 0.8134\n",
      "Classification Report:\n",
      "               precision    recall  f1-score   support\n",
      "\n",
      "           0       0.82      0.78      0.80      2056\n",
      "           1       0.80      0.84      0.82      2177\n",
      "\n",
      "    accuracy                           0.81      4233\n",
      "   macro avg       0.81      0.81      0.81      4233\n",
      "weighted avg       0.81      0.81      0.81      4233\n",
      "\n"
     ]
    },
    {
     "name": "stderr",
     "output_type": "stream",
     "text": [
      "Created version '1' of model 'sklearn-Random Forest-binary'.\n"
     ]
    }
   ],
   "source": [
    "model = train_basic_supervised_model(X_train, y_train, model_type='Random Forest')\n",
    "\n",
    "accuracy_score, report = evaluate_model(\"Binary classification [Normal, Others] for images without masks\",\n",
    "                                        model, X_test, y_test, model_type='Random Forest', classification_type=\"binary\")\n",
    "\n",
    "print(f\"Classification Accuracy: {accuracy_score:.4f}\")\n",
    "print(\"Classification Report:\\n\", report)"
   ]
  },
  {
   "cell_type": "markdown",
   "metadata": {},
   "source": [
    "### Catboost"
   ]
  },
  {
   "cell_type": "markdown",
   "metadata": {},
   "source": [
    "✅ Strengths\n",
    "* Handles categorical features natively (no need for one-hot encoding).\n",
    "* Great for imbalanced data (built-in loss functions).\n",
    "* Avoids overfitting using ordered boosting.\n",
    "* Faster training than XGBoost & LightGBM.\n",
    "* Works well with small datasets (better than deep learning in low-data settings).\n",
    "* Automatically handles missing values.\n",
    "* Requires minimal hyperparameter tuning.\n",
    "\n",
    "❌ Weaknesses\n",
    "* Slower inference than LightGBM (not ideal for real-time applications).\n",
    "* Higher memory usage (uses more RAM than XGBoost).\n",
    "* Smaller community support (troubleshooting is harder than XGBoost).\n",
    "* Limited GPU acceleration (only supports specific settings).\n",
    "* Not the best for highly sparse data (LightGBM may be better)."
   ]
  },
  {
   "cell_type": "code",
   "execution_count": null,
   "metadata": {},
   "outputs": [
    {
     "name": "stdout",
     "output_type": "stream",
     "text": [
      "Computed Class Weights:{0: 1.0405604719764012, 1: 0.9624829467939973} labels: [0 1]\n",
      "0:\tlearn: 0.6798811\ttotal: 61ms\tremaining: 30.5s\n",
      "100:\tlearn: 0.4838238\ttotal: 340ms\tremaining: 1.34s\n",
      "200:\tlearn: 0.4467777\ttotal: 617ms\tremaining: 918ms\n",
      "300:\tlearn: 0.4163232\ttotal: 894ms\tremaining: 591ms\n",
      "400:\tlearn: 0.3914075\ttotal: 1.17s\tremaining: 289ms\n",
      "499:\tlearn: 0.3709681\ttotal: 1.44s\tremaining: 0us\n"
     ]
    },
    {
     "name": "stderr",
     "output_type": "stream",
     "text": [
      "Successfully registered model 'sklearn-CatBoost-binary'.\n",
      "2025/04/14 07:35:02 INFO mlflow.store.model_registry.abstract_store: Waiting up to 300 seconds for model version to finish creation. Model name: sklearn-CatBoost-binary, version 1\n"
     ]
    },
    {
     "name": "stdout",
     "output_type": "stream",
     "text": [
      "🏃 View run CatBoost-binary at: http://localhost:8080/#/experiments/629108935222992872/runs/0a92d1c05d9a48ceaadc832380387f68\n",
      "🧪 View experiment at: http://localhost:8080/#/experiments/629108935222992872\n",
      "Classification Accuracy: 0.8160\n",
      "Classification Report:\n",
      "               precision    recall  f1-score   support\n",
      "\n",
      "           0       0.82      0.80      0.81      2056\n",
      "           1       0.81      0.83      0.82      2177\n",
      "\n",
      "    accuracy                           0.82      4233\n",
      "   macro avg       0.82      0.82      0.82      4233\n",
      "weighted avg       0.82      0.82      0.82      4233\n",
      "\n"
     ]
    },
    {
     "name": "stderr",
     "output_type": "stream",
     "text": [
      "Created version '1' of model 'sklearn-CatBoost-binary'.\n"
     ]
    }
   ],
   "source": [
    "model = train_basic_supervised_model(X_train, y_train, model_type='CatBoost')\n",
    "\n",
    "accuracy_score, report = evaluate_model(\"Binary classification [Normal, Others] for images without masks\", \n",
    "                                        model, X_test, y_test, model_type='CatBoost', classification_type=\"binary\")\n",
    "\n",
    "print(f\"Classification Accuracy: {accuracy_score:.4f}\")\n",
    "print(\"Classification Report:\\n\", report)"
   ]
  }
 ],
 "metadata": {
  "kernelspec": {
   "display_name": "ds_covid19",
   "language": "python",
   "name": "ds_covid19"
  },
  "language_info": {
   "codemirror_mode": {
    "name": "ipython",
    "version": 3
   },
   "file_extension": ".py",
   "mimetype": "text/x-python",
   "name": "python",
   "nbconvert_exporter": "python",
   "pygments_lexer": "ipython3",
   "version": "3.12.8"
  }
 },
 "nbformat": 4,
 "nbformat_minor": 2
}

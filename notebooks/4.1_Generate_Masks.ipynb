{
 "cells": [
  {
   "cell_type": "markdown",
   "id": "352d5f45",
   "metadata": {},
   "source": [
    "## Generate masks for our (augemented) dataset\n",
    "This notebook will generate masks for our standard or augemented dataset based on the model Maja developed for generating masks for lungs."
   ]
  },
  {
   "cell_type": "code",
   "execution_count": 1,
   "id": "4ff4249d",
   "metadata": {},
   "outputs": [],
   "source": [
    "# Auto reload modules\n",
    "%load_ext autoreload\n",
    "%autoreload 2"
   ]
  },
  {
   "cell_type": "code",
   "execution_count": 2,
   "id": "3357ef6f",
   "metadata": {},
   "outputs": [],
   "source": [
    "import sys\n",
    "sys.path.append(\"../\")"
   ]
  },
  {
   "cell_type": "code",
   "execution_count": null,
   "id": "dff5e544",
   "metadata": {},
   "outputs": [],
   "source": [
    "from src.preprocessing.masks_generator import generate_masks\n",
    "from tensorflow.keras.models import load_model\n",
    "\n",
    "# Available categories in the dataset\n",
    "dataset = ['COVID','NORMAL','Viral Pneumonia','Lung_Opacity']\n",
    "images_data_dir = '../data/raw/dataset/images/'\n",
    "masks_data_dir = '../data/raw/dataset/predicted_masks/'\n",
    "\n",
    "model_path = '../models/lung-segmentation-gan.h5'"
   ]
  },
  {
   "cell_type": "code",
   "execution_count": 4,
   "id": "b79637d9",
   "metadata": {},
   "outputs": [
    {
     "name": "stderr",
     "output_type": "stream",
     "text": [
      "/Users/rehabaam/codes/python/datascientest/project/ds_covid19_project/.ds_covid19/lib/python3.12/site-packages/keras/src/layers/activations/leaky_relu.py:41: UserWarning: Argument `alpha` is deprecated. Use `negative_slope` instead.\n",
      "  warnings.warn(\n",
      "2025-04-06 20:23:18.610341: I metal_plugin/src/device/metal_device.cc:1154] Metal device set to: Apple M3 Max\n",
      "2025-04-06 20:23:18.610370: I metal_plugin/src/device/metal_device.cc:296] systemMemory: 128.00 GB\n",
      "2025-04-06 20:23:18.610375: I metal_plugin/src/device/metal_device.cc:313] maxCacheSize: 48.00 GB\n",
      "2025-04-06 20:23:18.610400: I tensorflow/core/common_runtime/pluggable_device/pluggable_device_factory.cc:305] Could not identify NUMA node of platform GPU ID 0, defaulting to 0. Your kernel may not have been built with NUMA support.\n",
      "2025-04-06 20:23:18.610409: I tensorflow/core/common_runtime/pluggable_device/pluggable_device_factory.cc:271] Created TensorFlow device (/job:localhost/replica:0/task:0/device:GPU:0 with 0 MB memory) -> physical PluggableDevice (device: 0, name: METAL, pci bus id: <undefined>)\n"
     ]
    }
   ],
   "source": [
    "# Load the pre-trained model\n",
    "model = load_model(model_path, compile=False)"
   ]
  },
  {
   "cell_type": "code",
   "execution_count": null,
   "id": "277e3934",
   "metadata": {},
   "outputs": [],
   "source": [
    "\n",
    "for i in dataset:\n",
    "    print(f\"Generating masks for {i} category...\")\n",
    "    generate_masks(images_data_dir+i, masks_data_dir+i, model, target_size=(256, 256))"
   ]
  }
 ],
 "metadata": {
  "kernelspec": {
   "display_name": "ds_covid19",
   "language": "python",
   "name": "ds_covid19"
  },
  "language_info": {
   "codemirror_mode": {
    "name": "ipython",
    "version": 3
   },
   "file_extension": ".py",
   "mimetype": "text/x-python",
   "name": "python",
   "nbconvert_exporter": "python",
   "pygments_lexer": "ipython3",
   "version": "3.12.8"
  }
 },
 "nbformat": 4,
 "nbformat_minor": 5
}

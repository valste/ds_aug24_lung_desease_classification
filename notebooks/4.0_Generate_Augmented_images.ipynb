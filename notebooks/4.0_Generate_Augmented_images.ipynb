{
 "cells": [
  {
   "cell_type": "markdown",
   "id": "3a17468f",
   "metadata": {},
   "source": [
    "## Generate new images based on our dataset\n",
    "This notebook will generate / augement our dataset with new images based on the images of the project's dataset."
   ]
  },
  {
   "cell_type": "code",
   "execution_count": 1,
   "id": "4ff4249d",
   "metadata": {},
   "outputs": [],
   "source": [
    "# Auto reload modules\n",
    "%load_ext autoreload\n",
    "%autoreload 2"
   ]
  },
  {
   "cell_type": "code",
   "execution_count": 2,
   "id": "3357ef6f",
   "metadata": {},
   "outputs": [],
   "source": [
    "import sys\n",
    "sys.path.append(\"../\")"
   ]
  },
  {
   "cell_type": "code",
   "execution_count": 36,
   "id": "dff5e544",
   "metadata": {},
   "outputs": [],
   "source": [
    "from src.preprocessing.image_augmentor import generate_augmented_images\n",
    "\n",
    "# Available categories in the dataset\n",
    "dataset = {\n",
    "    'COVID': 3616,\n",
    "    'Viral Pneumonia': 1345,\n",
    "    'Lung_Opacity': 6012\n",
    "}\n",
    "images_data_dir = '../data/raw/dataset/images/'\n",
    "augmented_data_dir = '../data/raw/dataset/augmented_images/'"
   ]
  },
  {
   "cell_type": "code",
   "execution_count": 35,
   "id": "b79637d9",
   "metadata": {},
   "outputs": [
    {
     "name": "stdout",
     "output_type": "stream",
     "text": [
      "Generating masks for Viral Pneumonia category...\n",
      "Generating 2 augmented images per original image.\n"
     ]
    }
   ],
   "source": [
    "for data in dataset:\n",
    "    print(f\"Generating masks for {data} category...\")\n",
    "    generate_augmented_images(images_data_dir, augmented_data_dir, data, dataset[data], 10192)"
   ]
  }
 ],
 "metadata": {
  "kernelspec": {
   "display_name": "ds_covid19",
   "language": "python",
   "name": "ds_covid19"
  },
  "language_info": {
   "codemirror_mode": {
    "name": "ipython",
    "version": 3
   },
   "file_extension": ".py",
   "mimetype": "text/x-python",
   "name": "python",
   "nbconvert_exporter": "python",
   "pygments_lexer": "ipython3",
   "version": "3.12.8"
  }
 },
 "nbformat": 4,
 "nbformat_minor": 5
}

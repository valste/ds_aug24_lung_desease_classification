{
 "cells": [
  {
   "cell_type": "markdown",
   "metadata": {},
   "source": [
    "# Lung disease classifier based on CapsNet architecture with routing-by-agreement learn algorithm"
   ]
  },
  {
   "cell_type": "code",
   "execution_count": 3,
   "metadata": {
    "colab": {
     "base_uri": "https://localhost:8080/"
    },
    "executionInfo": {
     "elapsed": 15696,
     "status": "ok",
     "timestamp": 1746702353792,
     "user": {
      "displayName": "val stes",
      "userId": "02216392355930196845"
     },
     "user_tz": -120
    },
    "id": "EtDnHJc6B5Hq",
    "outputId": "8edddb62-764b-4b1b-bf2c-3c831bac4a47"
   },
   "outputs": [
    {
     "name": "stdout",
     "output_type": "stream",
     "text": [
      "PYTHONPATH added: c:\\Users\\User\\DataScience\\aug24_cds_int_analysis-of-covid-19-chest-x-rays\n",
      "['C:\\\\Users\\\\User\\\\AppData\\\\Local\\\\Programs\\\\Python\\\\Python312\\\\python312.zip',\n",
      " 'C:\\\\Users\\\\User\\\\AppData\\\\Local\\\\Programs\\\\Python\\\\Python312\\\\DLLs',\n",
      " 'C:\\\\Users\\\\User\\\\AppData\\\\Local\\\\Programs\\\\Python\\\\Python312\\\\Lib',\n",
      " 'C:\\\\Users\\\\User\\\\AppData\\\\Local\\\\Programs\\\\Python\\\\Python312',\n",
      " 'c:\\\\Users\\\\User\\\\DataScience\\\\env_covid19',\n",
      " '',\n",
      " 'c:\\\\Users\\\\User\\\\DataScience\\\\env_covid19\\\\Lib\\\\site-packages',\n",
      " 'c:\\\\Users\\\\User\\\\DataScience\\\\env_covid19\\\\Lib\\\\site-packages\\\\win32',\n",
      " 'c:\\\\Users\\\\User\\\\DataScience\\\\env_covid19\\\\Lib\\\\site-packages\\\\win32\\\\lib',\n",
      " 'c:\\\\Users\\\\User\\\\DataScience\\\\env_covid19\\\\Lib\\\\site-packages\\\\Pythonwin',\n",
      " 'c:\\\\Users\\\\User\\\\DataScience\\\\aug24_cds_int_analysis-of-covid-19-chest-x-rays',\n",
      " 'c:\\\\Users\\\\User\\\\DataScience\\\\aug24_cds_int_analysis-of-covid-19-chest-x-rays']\n",
      "file:///c:/Users/User/DataScience/aug24_cds_int_analysis-of-covid-19-chest-x-rays/mlruns\n",
      "\n",
      "PROJECT_DIR:  c:\\Users\\User\\DataScience\\aug24_cds_int_analysis-of-covid-19-chest-x-rays \n",
      "METADATA_DIR:  c:\\Users\\User\\DataScience\\aug24_cds_int_analysis-of-covid-19-chest-x-rays\\metadata \n",
      "IMAGE_DIRECTORIES:  {'COVID': {'images': 'c:\\\\Users\\\\User\\\\DataScience\\\\aug24_cds_int_analysis-of-covid-19-chest-x-rays\\\\data\\\\COVID-19_Radiography_Dataset\\\\COVID\\\\images', 'masks': 'c:\\\\Users\\\\User\\\\DataScience\\\\aug24_cds_int_analysis-of-covid-19-chest-x-rays\\\\data\\\\COVID-19_Radiography_Dataset\\\\COVID\\\\masks'}, 'Lung_Opacity': {'images': 'c:\\\\Users\\\\User\\\\DataScience\\\\aug24_cds_int_analysis-of-covid-19-chest-x-rays\\\\data\\\\COVID-19_Radiography_Dataset\\\\Lung_Opacity\\\\images', 'masks': 'c:\\\\Users\\\\User\\\\DataScience\\\\aug24_cds_int_analysis-of-covid-19-chest-x-rays\\\\data\\\\COVID-19_Radiography_Dataset\\\\Lung_Opacity\\\\masks'}, 'Normal': {'images': 'c:\\\\Users\\\\User\\\\DataScience\\\\aug24_cds_int_analysis-of-covid-19-chest-x-rays\\\\data\\\\COVID-19_Radiography_Dataset\\\\Normal\\\\images', 'masks': 'c:\\\\Users\\\\User\\\\DataScience\\\\aug24_cds_int_analysis-of-covid-19-chest-x-rays\\\\data\\\\COVID-19_Radiography_Dataset\\\\Normal\\\\masks'}, 'Viral Pneumonia': {'images': 'c:\\\\Users\\\\User\\\\DataScience\\\\aug24_cds_int_analysis-of-covid-19-chest-x-rays\\\\data\\\\COVID-19_Radiography_Dataset\\\\Viral Pneumonia\\\\images', 'masks': 'c:\\\\Users\\\\User\\\\DataScience\\\\aug24_cds_int_analysis-of-covid-19-chest-x-rays\\\\data\\\\COVID-19_Radiography_Dataset\\\\Viral Pneumonia\\\\masks'}} \n",
      "TRAINIG_DATA_DIR_254_IMG_ORIENTATION:  c:\\Users\\User\\DataScience\\aug24_cds_int_analysis-of-covid-19-chest-x-rays\\data_224x224\\train_val_224x224 \n",
      "TRULY_ROTATED_IMG_224:  c:\\Users\\User\\DataScience\\aug24_cds_int_analysis-of-covid-19-chest-x-rays\\224x224_truly_rotated \n",
      "TRAINIG_DATA_DIR_256_MASKED_IMBALANCED:  c:\\Users\\User\\DataScience\\aug24_cds_int_analysis-of-covid-19-chest-x-rays\\256x256_masked_images_imbalanced \n",
      "TRAINIG_DATA_DIR_256_MASKED_BALANCED:  c:\\Users\\User\\DataScience\\aug24_cds_int_analysis-of-covid-19-chest-x-rays\\256x256_masked_images_balanced \n",
      "MLRUNS_URI:  file:///c:/Users/User/DataScience/aug24_cds_int_analysis-of-covid-19-chest-x-rays/mlruns_vst\n",
      "original dataset directories: \n",
      "{'COVID': {'images': 'c:\\\\Users\\\\User\\\\DataScience\\\\aug24_cds_int_analysis-of-covid-19-chest-x-rays\\\\data\\\\COVID-19_Radiography_Dataset\\\\COVID\\\\images',\n",
      "           'masks': 'c:\\\\Users\\\\User\\\\DataScience\\\\aug24_cds_int_analysis-of-covid-19-chest-x-rays\\\\data\\\\COVID-19_Radiography_Dataset\\\\COVID\\\\masks'},\n",
      " 'Lung_Opacity': {'images': 'c:\\\\Users\\\\User\\\\DataScience\\\\aug24_cds_int_analysis-of-covid-19-chest-x-rays\\\\data\\\\COVID-19_Radiography_Dataset\\\\Lung_Opacity\\\\images',\n",
      "                  'masks': 'c:\\\\Users\\\\User\\\\DataScience\\\\aug24_cds_int_analysis-of-covid-19-chest-x-rays\\\\data\\\\COVID-19_Radiography_Dataset\\\\Lung_Opacity\\\\masks'},\n",
      " 'Normal': {'images': 'c:\\\\Users\\\\User\\\\DataScience\\\\aug24_cds_int_analysis-of-covid-19-chest-x-rays\\\\data\\\\COVID-19_Radiography_Dataset\\\\Normal\\\\images',\n",
      "            'masks': 'c:\\\\Users\\\\User\\\\DataScience\\\\aug24_cds_int_analysis-of-covid-19-chest-x-rays\\\\data\\\\COVID-19_Radiography_Dataset\\\\Normal\\\\masks'},\n",
      " 'Viral Pneumonia': {'images': 'c:\\\\Users\\\\User\\\\DataScience\\\\aug24_cds_int_analysis-of-covid-19-chest-x-rays\\\\data\\\\COVID-19_Radiography_Dataset\\\\Viral '\n",
      "                               'Pneumonia\\\\images',\n",
      "                     'masks': 'c:\\\\Users\\\\User\\\\DataScience\\\\aug24_cds_int_analysis-of-covid-19-chest-x-rays\\\\data\\\\COVID-19_Radiography_Dataset\\\\Viral '\n",
      "                              'Pneumonia\\\\masks'}}\n"
     ]
    },
    {
     "name": "stderr",
     "output_type": "stream",
     "text": [
      "c:\\Users\\User\\DataScience\\env_covid19\\Lib\\site-packages\\tqdm\\auto.py:21: TqdmWarning: IProgress not found. Please update jupyter and ipywidgets. See https://ipywidgets.readthedocs.io/en/stable/user_install.html\n",
      "  from .autonotebook import tqdm as notebook_tqdm\n"
     ]
    }
   ],
   "source": [
    "%load_ext autoreload\n",
    "%autoreload 2\n",
    "\n",
    "import sys, os\n",
    "from pathlib import Path\n",
    "from pprint import pprint\n",
    "\n",
    "#-setting up the PYTHONPATH------\n",
    "\n",
    "# Current directory as Path object\n",
    "current_dir = Path.cwd()\n",
    "# get project root folder\n",
    "project_dir = str(current_dir.parent)\n",
    "# adding project directory to the PYTHONPATH\n",
    "if project_dir not in sys.path:\n",
    "    sys.path.append(project_dir)\n",
    "    print(f\"PYTHONPATH added: {project_dir}\")\n",
    "else:\n",
    "    print(\"PYTHONPATH was empty or already in sys.path.\")\n",
    "\n",
    "sys.path.append(project_dir)\n",
    "pprint(sys.path)\n",
    "\n",
    "#----setting data paths----\n",
    "from src import defs\n",
    "\n",
    "defs.initDataPaths(project_dir)\n",
    "defs.checkDataPaths()\n",
    "\n",
    "# --- Standard Library\n",
    "import os\n",
    "import random\n",
    "import subprocess\n",
    "import time\n",
    "from pathlib import Path\n",
    "from timeit import default_timer as timer\n",
    "\n",
    "# --- Third-Party Libraries\n",
    "import albumentations as A\n",
    "import cv2\n",
    "import mlflow\n",
    "import numpy as np\n",
    "import pandas as pd\n",
    "from keras.saving import register_keras_serializable\n",
    "from keras.utils import image_dataset_from_directory\n",
    "from mlflow.tracking import MlflowClient\n",
    "import tensorflow as tf\n",
    "from tensorflow import keras\n",
    "from tensorflow.keras import layers\n",
    "from tensorflow.keras.callbacks import (\n",
    "    Callback,\n",
    "    EarlyStopping,\n",
    "    LearningRateScheduler,\n",
    "    ModelCheckpoint,\n",
    "    ReduceLROnPlateau\n",
    ")\n",
    "from tensorflow.keras.models import load_model\n",
    "from tensorflow.keras.optimizers import Adam\n",
    "from tensorflow.keras.optimizers.schedules import (\n",
    "    CosineDecay,\n",
    "    ExponentialDecay,\n",
    "    PiecewiseConstantDecay\n",
    ")\n",
    "\n",
    "# --- Local Imports\n",
    "from src.defs import (\n",
    "    PROJECT_DIR,\n",
    "    DatasetType as dt,\n",
    "    ModelType as mt,\n",
    "    class_to_disease_map,\n",
    "    disease_labels\n",
    ")\n",
    "from src.models.modelbuilder import (\n",
    "    ModelBuilder,\n",
    "    PrimaryCaps,\n",
    "    DigitCaps,\n",
    "    Length,\n",
    "    margin_loss,\n",
    "    capsnet_custom_objects\n",
    ")\n",
    "from src.models.modeltrainer import ModelTrainer\n",
    "from src.models.modelutilizer import ModelUtilizer\n",
    "from src.utils.datahelper import DataHelper as dh\n",
    "\n",
    "# config mlflow\n",
    "mlruns_dir = os.path.join(PROJECT_DIR, \"mlruns_capsnet\")\n",
    "mlruns_uri = Path(mlruns_dir)\n",
    "mlflow.set_tracking_uri(mlruns_uri)\n",
    "os.makedirs(mlruns_dir, exist_ok=True)\n",
    "os.makedirs(os.path.join(mlruns_dir, \".trash\"), exist_ok=True)\n",
    "\n"
   ]
  },
  {
   "cell_type": "code",
   "execution_count": null,
   "metadata": {
    "id": "45bwwKEGx-Rq"
   },
   "outputs": [],
   "source": [
    "#----balancing the trainig dataset---------------------------------------\n",
    "# -------------------------------\n",
    "# >>> Oversampling strategy: fill up each class up to the highest image count across the classes\n",
    "\n",
    "# create dir to be balanced by oversampling\n",
    "balanced_for_train_valid_dir = os.path.join(PROJECT_DIR, \"data_256x256\", \"for_disease_classification\", \"masked\", \"original\", \"masked_balanced\")\n",
    "classes = os.listdir(balanced_for_train_valid_dir)\n",
    "# determine the largest image count across the classes\n",
    "required_img_count = max([len(os.listdir(os.path.join(balanced_for_train_valid_dir, class_name))) for class_name in classes])\n",
    "\n",
    "\n",
    "# Gaussian Blur can be included in moderation but should never be dominant in augmentation.\n",
    "# Maintains low probability and low blur intensity to avoid losing medically important features.\n",
    "transform = A.Compose([\n",
    "    A.HorizontalFlip(p=0.5),\n",
    "    #A.Rotate(limit=10, p=0.5),\n",
    "    A.ShiftScaleRotate(\n",
    "        shift_limit=0.1,    # ±10% horizontal and vertical translation\n",
    "        scale_limit=0.1,    # no scaling\n",
    "        rotate_limit=0.05,     #\n",
    "        p=0.5\n",
    "    ),\n",
    "    A.RandomBrightnessContrast(p=0.3),\n",
    "    A.CLAHE(p=0.3),\n",
    "    A.GaussianBlur(blur_limit=(3, 3), sigma_limit=(0.1, 0.5), p=0.05)\n",
    "])\n",
    "\n",
    "\n",
    "#--oversampling for undersampled classes\n",
    "for class_name in classes:\n",
    "\n",
    "    balanced_image_class_dir = os.path.join(balanced_for_train_valid_dir, class_name)\n",
    "    img_names = os.listdir(balanced_image_class_dir)\n",
    "    img_count = len(img_names)\n",
    "    augm_cnt = img_count # start numbering with the next number\n",
    "\n",
    "    # List images, excluding those with '_augmented_' in their names\n",
    "    original_img_names = [\n",
    "        img for img in os.listdir(balanced_image_class_dir)\n",
    "        if ('_augmented_' not in img) and (img.endswith('.png') or img.endswith('.jpg'))\n",
    "    ]\n",
    "\n",
    "\n",
    "    # if the class is still imbalanced\n",
    "    if img_count < required_img_count:\n",
    "\n",
    "        print(f\"augmentation for {class_name}: \")\n",
    "        print(f\"Original images: {img_count}\")\n",
    "        print(f\"Required images: {required_img_count}\")\n",
    "\n",
    "        # Augmentation loop\n",
    "        while augm_cnt < required_img_count:\n",
    "            img_name = random.choice(original_img_names)\n",
    "            img_path = os.path.join(balanced_image_class_dir, img_name)\n",
    "\n",
    "            # Load the image\n",
    "            img = cv2.imread(img_path)\n",
    "\n",
    "            # Apply transformations\n",
    "            augmented_img = transform(image=img)['image']\n",
    "\n",
    "            # Update counter\n",
    "            augm_cnt += 1\n",
    "\n",
    "            # Save augmented image\n",
    "            new_img_name = f'{class_name}_augmented_{augm_cnt}.png'\n",
    "            cv2.imwrite(os.path.join(balanced_image_class_dir, new_img_name), augmented_img)\n",
    "\n",
    "            # Progress feedback every 1000 images\n",
    "            if augm_cnt % (1000 + img_count) == 0:\n",
    "                print(f\"Augmented images created: {augm_cnt-img_count}\")\n",
    "\n",
    "        print(f\"Total images after augmentation: {augm_cnt}\")\n",
    "    else:\n",
    "        print(f\"Class {class_name} already has {img_count} images. Skipping augmentation.\")\n",
    "        continue\n",
    "\n"
   ]
  },
  {
   "cell_type": "code",
   "execution_count": 12,
   "metadata": {
    "executionInfo": {
     "elapsed": 6,
     "status": "ok",
     "timestamp": 1746702359130,
     "user": {
      "displayName": "val stes",
      "userId": "02216392355930196845"
     },
     "user_tz": -120
    },
    "id": "KYZLxpu3LQou"
   },
   "outputs": [],
   "source": [
    "#---training calbacks---\n",
    "def initCallbacks(model_checkpoint_path, target_val_accuracy):\n",
    "\n",
    "    class StopAtValAccuracy(Callback):\n",
    "    # stopps the training (after a completed epoch) once the target_val_accuracy is reached\n",
    "        def __init__(self, target_val_accuracy):\n",
    "            super().__init__()\n",
    "            self.target_val_accuracy = target_val_accuracy\n",
    "\n",
    "        def on_epoch_end(self, epoch, logs=None):\n",
    "            val_accuracy = logs.get(\"val_accuracy\")\n",
    "            if val_accuracy is not None:\n",
    "                if val_accuracy >= self.target_val_accuracy:\n",
    "                    print(f\"\\nReached target validation accuracy of {self.target_val_accuracy*100:.2f}% at epoch {epoch+1}. Stopping training.\")\n",
    "                    self._model.stop_training = True\n",
    "\n",
    "\n",
    "    class TimingCallback(Callback):\n",
    "        def __init__(self):\n",
    "            self.logs = []\n",
    "        def on_epoch_begin(self, epoch, logs={}):\n",
    "            self.starttime = timer()\n",
    "        def on_epoch_end(self, epoch, logs={}):\n",
    "            self.logs.append(timer()-self.starttime)\n",
    "\n",
    "\n",
    "    stop_at_specified_val_acc = StopAtValAccuracy(target_val_accuracy=target_val_accuracy)\n",
    "\n",
    "    time_callback = TimingCallback()\n",
    "\n",
    "    early_stopping = EarlyStopping(\n",
    "                        monitor='val_loss', # Keras to watch the validation loss after each epoch\n",
    "                        mode='min',         # 'min' (for loss) tells EarlyStopping to look for decreases in the monitored value\n",
    "                        patience=4,         # Wait for x epochs before applying\n",
    "                        min_delta=0.01,     # If the loss function doesn't change by 1% after patience epochs, either up or down, we stop\n",
    "                        restore_best_weights=True, # When stopping early, it restores the model weights from the epoch where validation loss was best\n",
    "                        verbose=1,          # Display the epoch at which training stops\n",
    "                        )\n",
    "\n",
    "    reduce_learning_rate = ReduceLROnPlateau(\n",
    "                                            monitor=\"val_loss\",\n",
    "                                            patience=3,   # If val_loss stagnates for patience consecutive epochs based on the min_delta value\n",
    "                                            min_delta=0.01, # If the loss function doesn't change by 1% after patience epochs, either up or down, we stop\n",
    "                                            min_lr=1e-6, # Prevents LR from being reduced below a floor\n",
    "                                            factor=0.1,  # Reduce the learning rate by a factor of 0.1\n",
    "                                            cooldown=3,  # epochs to wait before retrying\n",
    "                                            verbose=1)\n",
    "\n",
    "\n",
    "       \n",
    "    check_point_best_only = ModelCheckpoint(model_checkpoint_path, save_best_only=True) #done by mlflow\n",
    "\n",
    "\n",
    "    #---->>>adjust\n",
    "    return [early_stopping, reduce_learning_rate, check_point_best_only]\n"
   ]
  },
  {
   "cell_type": "code",
   "execution_count": null,
   "metadata": {
    "colab": {
     "base_uri": "https://localhost:8080/",
     "height": 1000
    },
    "id": "kDQuR7VWYyxO",
    "outputId": "713a66b9-d440-4328-b5a0-c55c18398ed8"
   },
   "outputs": [],
   "source": [
    "#-------------------------------------------\n",
    "#----capsnet with routing by agreement------\n",
    "# ---experimenting/training and MLflow logging------------\n",
    "#-------------------------------------------\n",
    "\n",
    "# -------------------------------\n",
    "# ---configure training mode-----\n",
    "try_kernels_for_1st_con2D_layer = True  # True: experimentation mode with LR sheduler over few epochs to figure out the optimal kernel size range for the 1st conv-layer \n",
    "                                        # False: training mode with constant start_LR value\n",
    "scheduler = \"ExponentialDecay\"#\"PiecewiseConstantDecay\" # \"CosineDecay\"\n",
    "#----> start_LR is always used\n",
    "start_LR = 1e-3 \n",
    "\n",
    "# no schedule\n",
    "lr_scheduler = start_LR\n",
    "#-----------------------------------\n",
    "\n",
    "\n",
    "# if try_kernels_for_1st_con2D_layer==False no heduler is used\n",
    "if try_kernels_for_1st_con2D_layer:\n",
    "    if scheduler == \"ExponentialDecay\":\n",
    "        \"\"\" final_lr = initial_lr * decay_rate ^ (steps / decay_steps)\n",
    "            1e-6 = 1e-3 * decay_rate^(1911 / 1911)\n",
    "            → 1e-6 / 1e-3 = decay_rate\n",
    "            → decay_rate = 1e-3 = 0.001\n",
    "        \"\"\"\n",
    "        lr_sheduler = ExponentialDecay(\n",
    "            initial_learning_rate=1e-3,\n",
    "            decay_steps=1911,\n",
    "            decay_rate=0.001,      # decays from 1e-3 → 1e-6\n",
    "            staircase=False        # smooth exponential decay\n",
    "        )\n",
    "        \n",
    "    elif scheduler == \"CosineDecay\":\n",
    "        \"\"\"\n",
    "        final_lr = alpha + (initial_lr - alpha) * 0.5 * (1 + cos(π * step / decay_steps))\n",
    "        steps_per_epoch = 637\n",
    "        decay_steps = 3 * steps_per_epoch  # = 1911\n",
    "        \"\"\"\n",
    "        lr_scheduler = CosineDecay(\n",
    "            initial_learning_rate=1e-3,\n",
    "            decay_steps=1911,\n",
    "            alpha=0.001  # Final LR = 0.001 * 1e-3 = 1e-6\n",
    "        )\n",
    "        \n",
    "    elif scheduler == \"PiecewiseConstantDecay\":\n",
    "        boundaries = [637, 1274]  # step where LR changes\n",
    "        values = [1e-3, 1e-4, 1e-5]  # LR values at each stage/epoch start\n",
    "        lr_scheduler = PiecewiseConstantDecay(boundaries=boundaries, values=values)\n",
    "    \n",
    "    \n",
    "\n",
    "# figure out the best convKernel value for the first conv2D layer lasting for epochs=x only\n",
    "# use lr_scheduler to define a non-discrete LR decrease\n",
    "if try_kernels_for_1st_con2D_layer:\n",
    "    epochs = 3 # check the learning tendency\n",
    "    validation_split = 0.5 #50 valid 50\n",
    "    kernels = [3,5,7,9,10,11] # specifiy kernel sizes of interest\n",
    "    experiment_name = \"fit_the_best_kernel_for_1st_conv2D\"\n",
    "    \n",
    "# ... or go on with regualr long training over selected kernels for the first conv-layer\n",
    "else:\n",
    "    epochs = 50\n",
    "    validation_split = 0.2\n",
    "    experiment_name = \"capsnet_4class_lung_disease_classifier\"\n",
    "    kernels = [9,10,11] #best performed kernels by exploration runs\n",
    "    \n",
    "    \n",
    "# Model params\n",
    "model_name = None\n",
    "input_shape = (256, 256, 3) # masked\n",
    "n_classes = 4 # 4 disease classes\n",
    "routing_iterations = 3 # commonly used\n",
    "\n",
    "\n",
    "#---loading dataset---\n",
    "#train_dataset, val_dataset = loadDataset(validation_split)\n",
    "balanced_for_train_valid_dir = os.path.join(PROJECT_DIR, \"data_256x256\", \"for_disease_classification\", \"masked\", \"original\", \"masked_balanced\")\n",
    "# params for image_dataset_from_directory(...)\n",
    "data_loading_params = {\n",
    "                    \"subset\"    :           \"both\",\n",
    "                    \"directory\":            balanced_for_train_valid_dir,\n",
    "                    \"batch_size\" :          32,\n",
    "                    \"seed\":                 42,                       # changed from 1 to 42\n",
    "                    \"label_mode\":           \"categorical\",            # for one-hot encoded labels\n",
    "                    \"color_mode\":           \"rgb\",                    # require 3 channels otherwise needs to be trained from scratch \n",
    "                    \"image_size\":           (256,256),                # img_height, img_width\n",
    "                    \"shuffle\":              True,\n",
    "                    \"validation_split\":     validation_split,         # \n",
    "                    \"labels\":              \"inferred\",                # derive from folder structure\n",
    "}\n",
    "\n",
    "# get training/validation dataset\n",
    "val_dataset, train_dataset = dh.load_training_dataset(model_type=mt.CAPSNET, dataset_type=dt.TRAIN, **data_loading_params) \n",
    "\n",
    "# set experiment name\n",
    "mlflow.set_experiment(experiment_name)  # this will create the experiment if it doesn't exist\n",
    "\n",
    "#----start trainig loop over kernels------\n",
    "for kernel in kernels:\n",
    "\n",
    "    experiment_id = mlflow.get_experiment_by_name(experiment_name).experiment_id\n",
    "\n",
    "    # Instantiate and compile model\n",
    "    \n",
    "    capsnet_config = {\n",
    "        \"first_Conv2DKernel_size\": kernel,\n",
    "        \"input_shape\": (256, 256, 3),\n",
    "        \"routing_algo\": \"by_agreement\",\n",
    "    \n",
    "        \"compile_params\" : {\n",
    "            \"optimizer\": Adam(lr_scheduler),\n",
    "            \"loss\": margin_loss,\n",
    "            \"metrics\": [\"accuracy\"]\n",
    "        },\n",
    "        \"prim_caps\": {\n",
    "            \"dim_capsule\": 8,\n",
    "            \"n_channels\": 32,\n",
    "            \"kernel_size\": 9,\n",
    "            \"strides\": 2,\n",
    "            \"padding\": \"same\"\n",
    "        }, \n",
    "        \"digit_caps\":{\n",
    "            \"num_capsule\": 4, # 1 capsule per class (e.g. 4 diseases = 4 capsules)\n",
    "            \"dim_capsule\": 16, # Each output capsule is a 16D vector → captures pose info\n",
    "            \"routing_iters\": 3, # Use 3 iterations of dynamic routing  to refine capsule agreement\n",
    "        }\n",
    "    }\n",
    "    \n",
    "    model_name = experiment_name+f\"_krnl_{kernel}\"\n",
    "    capsnet = ModelBuilder(name = model_name, model_type=mt.CAPSNET, **capsnet_config)\n",
    "    _, model = capsnet.get_compiled_model()\n",
    "\n",
    "    # Model Summary\n",
    "    model.summary()\n",
    "\n",
    "    def get_nvidia_smi():\n",
    "        try:\n",
    "            output = subprocess.check_output([\"nvidia-smi\"], stderr=subprocess.STDOUT)\n",
    "            return output.decode(\"utf-8\")\n",
    "        except (subprocess.CalledProcessError, FileNotFoundError):\n",
    "            return None  # Return None if command fails or doesn't exist\n",
    "\n",
    "\n",
    "    # if gpu is used\n",
    "    is_gpu = len(tf.config.list_physical_devices('GPU'))\n",
    "\n",
    "\n",
    "    # Enable autologging for GPU only\n",
    "    if is_gpu:\n",
    "      mlflow.tensorflow.autolog()\n",
    "      print(\"gpu is used\")\n",
    "      print(\"mlflow.autolog is enabled\")\n",
    "\n",
    "\n",
    "    #----Start MLflow run\n",
    "    with mlflow.start_run(run_name=model_name) as run:\n",
    "\n",
    "        print(f\"Experiment name/id: {experiment_name}/{experiment_id}\")\n",
    "        print(f\"MLflow Run ID/name: {run.info.run_id}/{run.info.run_name}\")\n",
    "        # Optional: log tracking folder path (for local runs)\n",
    "        # mlflow.log_param(\"mlflow_run_folder\", f\"./mlruns/{run.info.experiment_id}/{run.info.run_id}/\")\n",
    "\n",
    "        mlflow.log_param(\"model_name\", model_name)\n",
    "        \n",
    "        model_checkpoint_path = os.path.join(mlruns_dir, f\"{experiment_id}\", f\"{run.info.run_id}\", \"artifacts\", \"checkpoints\", \"best_model.keras\")\n",
    "        # init calbacks\n",
    "        calbcks = initCallbacks(model_checkpoint_path, target_val_accuracy=0.95)\n",
    "\n",
    "        # --- Training ---\n",
    "        start_time = time.time()\n",
    "        history = model.fit(\n",
    "            train_dataset,\n",
    "            validation_data=val_dataset,\n",
    "            epochs=epochs,\n",
    "            batch_size=32,\n",
    "            callbacks=[calbcks]\n",
    "        )\n",
    "        end_time = time.time()\n",
    "\n",
    "        # perform logging after successful run only\n",
    "        training_time = end_time - start_time\n",
    "        mlflow.log_metric(\"training_time_seconds\", training_time)\n",
    "\n",
    "        if is_gpu:\n",
    "\n",
    "          gpu_info = get_nvidia_smi()\n",
    "          # Save to file\n",
    "          with open(\"nvidia_smi.txt\", \"w\") as f:\n",
    "              f.write(gpu_info)\n",
    "\n",
    "          # Log to MLflow run folder\n",
    "          mlflow.log_artifact(\"nvidia_smi.txt\")\n",
    "\n",
    "        #----Manually log parameters when TPU is used----\n",
    "        if not is_gpu:\n",
    "\n",
    "            mlflow.log_param(\"hardware\", \"TPU\")\n",
    "            mlflow.log_param(\"epochs\", len(history.history[\"loss\"]))\n",
    "\n",
    "            # Manually log metrics\n",
    "            for key, values in history.history.items():\n",
    "                for epoch, value in enumerate(values):\n",
    "                    mlflow.log_metric(key, value, step=epoch)\n",
    "                    print(f\"Logged metric: {key} = {value} at epoch {epoch}\")\n",
    "\n"
   ]
  },
  {
   "cell_type": "code",
   "execution_count": null,
   "metadata": {},
   "outputs": [],
   "source": [
    "# if colab crashes or session expires in the midle of traning use this function to continue\n",
    "# the histories from resulted mlruns needs to be merged to get an complete overview over the traning     \n",
    "def resume_training_for_runID_starting_at_next_epoch_with_LR(experiment_id, run_id, mlruns_dir, alt_model_from_check_point=False, dflt_LR=None, **data_loading_params):\n",
    "    #---resume the training after session expiration starting with the next epoch and last used LR or use dflt_LR if specified--------\n",
    "    \n",
    "    # Setup MLflow tracking\n",
    "    mlruns_uri = Path(mlruns_dir)\n",
    "    mlflow.set_tracking_uri(mlruns_uri)\n",
    "    mlflow.tensorflow.autolog()\n",
    "    \n",
    "    # client to acces mlruns\n",
    "    client = MlflowClient()\n",
    "\n",
    "    # Get epoch and LR info\n",
    "    metric_history = client.get_metric_history(run_id, \"val_loss\")\n",
    "    lr_history = client.get_metric_history(run_id, \"learning_rate\")\n",
    "\n",
    "    # Calculate next epoch number and last LR\n",
    "    next_epoch = max(m.step for m in metric_history) + 1 if metric_history else 0\n",
    "    last_lr_used = sorted(lr_history, key=lambda x: x.step)[-1].value if lr_history else dflt_LR\n",
    "\n",
    "    \n",
    "    model_path = None\n",
    "    # Load the model\n",
    "    if alt_model_from_check_point:# from checkpoint\n",
    "        model_path = os.path.join(mlruns_dir, f\"{experiment_id}\", f\"{run_id}\", \"artifacts\", \"checkpoints\", \"best_model.keras\")\n",
    "   \n",
    "    else: # from the /model/data folder\n",
    "        model_path = os.path.join(mlruns_dir, f\"{experiment_id}\", f\"{run_id}\", \"artifacts\", \"model\", \"data\", \"model.keras\")\n",
    "\n",
    "    # custom objects which ar not a part of keras library\n",
    "    model = load_model(model_path, custom_objects=capsnet_custom_objects)\n",
    "\n",
    "    # load training/validation dataset\n",
    "    val_dataset, train_dataset = dh.load_training_dataset(model_type=mt.CAPSNET, dataset_type=dt.TRAIN, **data_loading_params) \n",
    "\n",
    "\n",
    "    #----Start MLflow run\n",
    "    with mlflow.start_run(run_id=run_id) as run:\n",
    "\n",
    "        # Recompile with optimizer and learning rate as seen in last training\n",
    "        model.compile(optimizer=keras.optimizers.Adam(learning_rate=last_lr_used),\n",
    "                      loss=margin_loss,\n",
    "                      metrics=['accuracy'])\n",
    "\n",
    "        # Resume training\n",
    "        history = model.fit(\n",
    "            train_dataset,\n",
    "            validation_data=val_dataset,\n",
    "            initial_epoch=next_epoch,  # Resume at epoch xxx\n",
    "            epochs=50,\n",
    "            callbacks=calbcks\n",
    "        )\n",
    "\n",
    "\n",
    "#----usage example  \n",
    "balanced_for_train_valid_dir = os.path.join(PROJECT_DIR, \"data_256x256\", \"for_disease_classification\", \"masked\", \"original\", \"masked_balanced\")\n",
    "# params for image_dataset_from_directory(...)\n",
    "data_loading_params = {\n",
    "                    \"subset\"    :           \"both\",\n",
    "                    \"directory\":            balanced_for_train_valid_dir,\n",
    "                    \"batch_size\" :          32,\n",
    "                    \"seed\":                 42,                       # changed from 1 to 42\n",
    "                    \"label_mode\":           \"categorical\",            # for one-hot encoded labels\n",
    "                    \"color_mode\":           \"rgb\",                    # require 3 channels otherwise needs to be trained from scratch \n",
    "                    \"image_size\":           (256,256),                # img_height, img_width\n",
    "                    \"shuffle\":              True,\n",
    "                    \"validation_split\":     validation_split,         # \n",
    "                    \"labels\":              \"inferred\",                # derive from folder structure\n",
    "}\n",
    "\n",
    "resume_training_for_runID_starting_at_next_epoch_with_LR(experiment_id=\"723732156685390614\", run_id=\"3a05b836fa94479a87e9afa4b1469669\", mlruns_dir=mlruns_dir, alt_model_from_check_point=True, dflt_LR=1e-5, **data_loading_params)\n"
   ]
  },
  {
   "cell_type": "code",
   "execution_count": 9,
   "metadata": {},
   "outputs": [],
   "source": [
    "# -------get training history from mlruns and save to csv-----\n",
    "mlruns_capsnet_uri = Path(os.path.join(PROJECT_DIR, \"mlruns_capsnet\")).as_uri()\n",
    "dh.set_mlflow_tracking(mlruns_capsnet_uri)\n",
    "metrics_all_runs_output_csv = os.path.join(PROJECT_DIR, \"csv_files\", \"disease_prediction\", \"capsnet_metrics_all_runs.csv\")\n",
    "# ----!!!don't run again!!! returns empty df because no data in mlruns\n",
    "# df_metrics = dh.get_per_epoch_metrics_from_mlruns(experiment_ids=[\"923962217935764323\"], output_csv_path=metrics_all_runs_output_csv)\n",
    "# df_metrics.head()"
   ]
  },
  {
   "cell_type": "code",
   "execution_count": 14,
   "metadata": {},
   "outputs": [
    {
     "data": {
      "application/vnd.plotly.v1+json": {
       "config": {
        "plotlyServerURL": "https://plot.ly"
       },
       "data": [
        {
         "legendgroup": "268d83f2b327496d944c36ec4021cd55",
         "line": {
          "color": "#AB63FA"
         },
         "mode": "lines+markers",
         "name": "268d83f2b327496d944c36ec4021cd55 : capsnet_lung_disease_classifier_krnl10",
         "showlegend": true,
         "type": "scatter",
         "x": {
          "bdata": "AAECAwQFBgcICQoLDA0ODxAREhM=",
          "dtype": "i1"
         },
         "xaxis": "x",
         "y": {
          "bdata": "AAAA4EdV6T8AAABA6lPrPwAAAECv+Os/AAAAwIls7D8AAADACLzsPwAAAACH/ew/AAAAAIIh7T8AAACg9ZztPwAAAKBnue0/////XwHP7T8AAAAAT9rtPwAAAGAo4u0/AAAAAMvx7T8AAABgF/ztPwAAAOBo/e0//////+IF7j8AAADgyAruPwEAAGAzBu4/AAAAIJUH7j8AAABgXg/uPw==",
          "dtype": "f8"
         },
         "yaxis": "y"
        },
        {
         "legendgroup": "9d91d65773834ceebf72c557073ac3e7",
         "line": {
          "color": "#EF553B"
         },
         "mode": "lines+markers",
         "name": "9d91d65773834ceebf72c557073ac3e7 : capsnet_lung_disease_classifier_krnl_7",
         "showlegend": true,
         "type": "scatter",
         "x": {
          "bdata": "AAECAwQFBgcICQoLDA0=",
          "dtype": "i1"
         },
         "xaxis": "x",
         "y": {
          "bdata": "AAAAYLtK6T8AAAAg803rPwAAAIDSCOw/AAAAgBOC7D8AAABg0t7sPwAAAGDMHO0/AAAAYJhB7T8BAAAgWEHtPwAAAABRfu0/AAAAYBzY7T8AAACAlfrtPwAAAIBTBu4/AQAAAJER7j8AAADAoR/uPw==",
          "dtype": "f8"
         },
         "yaxis": "y"
        },
        {
         "legendgroup": "af22305e09b44dd686b2405b0f6c01d5",
         "line": {
          "color": "#636EFA"
         },
         "mode": "lines+markers",
         "name": "af22305e09b44dd686b2405b0f6c01d5 : capsnet_lung_disease_classifier_krnl_5",
         "showlegend": true,
         "type": "scatter",
         "x": {
          "bdata": "AAECAwQFBgcICQoLDA0ODw==",
          "dtype": "i1"
         },
         "xaxis": "x",
         "y": {
          "bdata": "AAAAoHhI6T8AAADAPPjqPwAAAKBWyes/AAAAQOZO7D8AAACAbrPsP////3+J/+w/////H3Mi7T8AAADgOCftP////x80Zu0/AAAAgG+K7T8AAACAluDtPwAAAKAy+O0/AQAA4BAE7j8AAAAACAruP////z+oF+4/AAAAAIAr7j8=",
          "dtype": "f8"
         },
         "yaxis": "y"
        },
        {
         "legendgroup": "e3d8dc0572bd478a943b25901c2ade7f",
         "line": {
          "color": "#FFA15A"
         },
         "mode": "lines+markers",
         "name": "e3d8dc0572bd478a943b25901c2ade7f : capsnet_lung_disease_classifier_krnl11",
         "showlegend": true,
         "type": "scatter",
         "x": {
          "bdata": "AAECAwQFBgcICQoLDA0ODxAREhMUFQ==",
          "dtype": "i1"
         },
         "xaxis": "x",
         "y": {
          "bdata": "AAAA4GxZ6T8AAAAgulPrPwAAAECxB+w/AAAAgJB/7D8AAABg0M/sP////78R+ew/AQAAIC+K7T8AAADgQaftPwAAAOB+v+0/AQAAIBnI7T8AAAAgzdjtPwAAAABC6u0/AQAAwFvy7T8AAACgnebtPwAAAOAI8O0/AAAA4Hvy7T////8frPLtPwAAAMCm++0/////vxfv7T8AAABglPntPwAAAIAS+O0/AQAAgEf87T8=",
          "dtype": "f8"
         },
         "yaxis": "y"
        },
        {
         "legendgroup": "f47f878a901e4e8c8cc28a72fa5da428",
         "line": {
          "color": "#00CC96"
         },
         "mode": "lines+markers",
         "name": "f47f878a901e4e8c8cc28a72fa5da428 : capsnet_lung_disease_classifier_krnl9",
         "showlegend": true,
         "type": "scatter",
         "x": {
          "bdata": "AAECAwQFBgcICQoLDA0=",
          "dtype": "i1"
         },
         "xaxis": "x",
         "y": {
          "bdata": "AAAA4IlJ6T8AAACAsxjrPwAAAID62es/AAAAYBRo7D8AAABA/L7sP////99cAu0/AAAAIM857T////9f+TTtPwAAAMA9bu0/AAAAQEuU7T8AAABgYLPtPwEAAOAK/+0/AQAAAJcW7j8BAAAA0h/uPw==",
          "dtype": "f8"
         },
         "yaxis": "y"
        },
        {
         "legendgroup": "fe8c97578d10496c8439e6996296704a",
         "line": {
          "color": "#19D3F3"
         },
         "mode": "lines+markers",
         "name": "fe8c97578d10496c8439e6996296704a : capsnet_lung_disease_classifier_krnl10",
         "showlegend": true,
         "type": "scatter",
         "x": {
          "bdata": "AAECAwQFBgcICQoLDA0ODxAREhMUFQ==",
          "dtype": "i1"
         },
         "xaxis": "x",
         "y": {
          "bdata": "AAAAQFlW6T8AAAAgVWrrPwAAAICGGew/AAAAAAOP7D8AAABgZeHsPwAAACCSIe0/AAAAwAE87T////9fe1HtPwAAAGCZau0/AQAAAKMv7T8AAAAgS7ztPwEAACDs1+0/AAAAoPHp7T8AAABAnfPtPwAAAGBMAO4/AQAAQLsM7j////8/ZwnuPwEAAGAAEe4/AAAA4CgY7j8BAACAhBTuPwAAAKB1Fe4/AAAAYBwb7j8=",
          "dtype": "f8"
         },
         "yaxis": "y"
        },
        {
         "legendgroup": "268d83f2b327496d944c36ec4021cd55",
         "line": {
          "color": "#AB63FA"
         },
         "mode": "lines+markers",
         "name": "268d83f2b327496d944c36ec4021cd55 : capsnet_lung_disease_classifier_krnl10",
         "showlegend": false,
         "type": "scatter",
         "x": {
          "bdata": "AAECAwQFBgcICQoLDA0ODxAREhM=",
          "dtype": "i1"
         },
         "xaxis": "x2",
         "y": {
          "bdata": "AAAAAKpq6z8AAACgUCHrPwAAAGATWOs/AQAAoNH67D8AAABgwlDsPwAAAICqcew/AAAAoNnM7D////+f/1TtPwEAAIC1TO0/AQAAwM+W7T8BAACgyZHtPwAAACBUmu0/////v0TC7T////+fFdDtPwAAAEAZ0+0/AQAAAFzV7T8AAABAGdPtPwAAAIAa1O0/AAAAYGPb7T8AAABgY9vtPw==",
          "dtype": "f8"
         },
         "yaxis": "y2"
        },
        {
         "legendgroup": "9d91d65773834ceebf72c557073ac3e7",
         "line": {
          "color": "#EF553B"
         },
         "mode": "lines+markers",
         "name": "9d91d65773834ceebf72c557073ac3e7 : capsnet_lung_disease_classifier_krnl_7",
         "showlegend": false,
         "type": "scatter",
         "x": {
          "bdata": "AAECAwQFBgcICQoLDA0=",
          "dtype": "i1"
         },
         "xaxis": "x2",
         "y": {
          "bdata": "AAAAAOtk6j8AAAAAWFXqPwAAAMCSwOs/AAAAYFKS7D8AAACAdnvsPwAAAKCKwOw/////Hzbk7D8AAAAAj4/sPwAAAMCNjuw/AAAAoKut7T////8fdbXtPwEAACAxsu0/AAAAQFLN7T8BAAAgI9vtPw==",
          "dtype": "f8"
         },
         "yaxis": "y2"
        },
        {
         "legendgroup": "af22305e09b44dd686b2405b0f6c01d5",
         "line": {
          "color": "#636EFA"
         },
         "mode": "lines+markers",
         "name": "af22305e09b44dd686b2405b0f6c01d5 : capsnet_lung_disease_classifier_krnl_5",
         "showlegend": false,
         "type": "scatter",
         "x": {
          "bdata": "AAECAwQFBgcICQoLDA0ODw==",
          "dtype": "i1"
         },
         "xaxis": "x2",
         "y": {
          "bdata": "AAAAoCoC6z8AAADg2e3pPwAAAIDVh+o/AAAAQMQd7D8AAADgo87rPwAAAEBnaOs/AAAAYJya7D8AAAAAcULsPwAAAMA2R+w/AAAAIJL06z8AAACA6ULtPwAAAMA2gu0/AAAAIAWO7T////+/k2XtPwAAAKAdou0/////39LN7T8=",
          "dtype": "f8"
         },
         "yaxis": "y2"
        },
        {
         "legendgroup": "e3d8dc0572bd478a943b25901c2ade7f",
         "line": {
          "color": "#FFA15A"
         },
         "mode": "lines+markers",
         "name": "e3d8dc0572bd478a943b25901c2ade7f : capsnet_lung_disease_classifier_krnl11",
         "showlegend": false,
         "type": "scatter",
         "x": {
          "bdata": "AAECAwQFBgcICQoLDA0ODxAREhMUFQ==",
          "dtype": "i1"
         },
         "xaxis": "x2",
         "y": {
          "bdata": "AAAAIGDs6D8AAABgWvvrPwAAAGA/t+w/AAAAIPpJ3D8AAAAAmpjsPwAAAADAt+w/////n84s7T8AAAAgSSjtPwAAAADDV+0/AAAAYCdB7T8BAACgkmTtPwAAAEDKxu0/AAAAAIrG7T8AAABgjMjtPwAAACCQy+0/AAAAINTO7T8BAAAAlc/tP////7+Tzu0/AAAAYODY7T//////F9LtP////78b1e0/AAAAgBrU7T8=",
          "dtype": "f8"
         },
         "yaxis": "y2"
        },
        {
         "legendgroup": "f47f878a901e4e8c8cc28a72fa5da428",
         "line": {
          "color": "#00CC96"
         },
         "mode": "lines+markers",
         "name": "f47f878a901e4e8c8cc28a72fa5da428 : capsnet_lung_disease_classifier_krnl9",
         "showlegend": false,
         "type": "scatter",
         "x": {
          "bdata": "AAECAwQFBgcICQoLDA0=",
          "dtype": "i1"
         },
         "xaxis": "x2",
         "y": {
          "bdata": "AAAAwODs6D8AAABAYEjnPwAAAGAZxus/AAAAIA/l6T8AAABgaDvsPwAAACAopOw/AAAAgHlJ7D////8fNk3tP////1976Ow/AAAAoLBI7T8AAACgsEjtPwAAAEDKxu0/AAAAgOmr7T8BAABAN7ftPw==",
          "dtype": "f8"
         },
         "yaxis": "y2"
        },
        {
         "legendgroup": "fe8c97578d10496c8439e6996296704a",
         "line": {
          "color": "#19D3F3"
         },
         "mode": "lines+markers",
         "name": "fe8c97578d10496c8439e6996296704a : capsnet_lung_disease_classifier_krnl10",
         "showlegend": false,
         "type": "scatter",
         "x": {
          "bdata": "AAECAwQFBgcICQoLDA0ODxAREhMUFQ==",
          "dtype": "i1"
         },
         "xaxis": "x2",
         "y": {
          "bdata": "AAAAoONe6j8AAABA7JPpPwAAAKBL7+s/AAAAYICx6z8AAABAowLsP//////gO+0/AQAAwMHt7D8AAABAk17sP////59LwdQ/AQAAIKt47T8BAAAgYnHtPwEAAOCWnO0/AAAAQFqf7T////8/PLvtP////z9lqO0/AQAAIJvU7T////8f39ftPwEAAADk2+0/AQAA4N3W7T////9f6+HtPwAAAIBp4O0/AQAAAGzi7T8=",
          "dtype": "f8"
         },
         "yaxis": "y2"
        },
        {
         "legendgroup": "268d83f2b327496d944c36ec4021cd55",
         "line": {
          "color": "#AB63FA"
         },
         "mode": "lines+markers",
         "name": "268d83f2b327496d944c36ec4021cd55 : capsnet_lung_disease_classifier_krnl10",
         "showlegend": false,
         "type": "scatter",
         "x": {
          "bdata": "AAECAwQFBgcICQoLDA0ODxAREhM=",
          "dtype": "i1"
         },
         "xaxis": "x3",
         "y": {
          "bdata": "AAAA4C0R0D////9f9VTHP////3+PYcQ//v//Xx9cwj////8/tMXAP/7//38jCr8//P//v4vbvT/+//+fsSC5PwAAAAC79bc//v//P1RQtz/+////PwO3P/r//9/PqLY/+f//v10ztj////+fkcC1P/v///9qjLU//P//f5xftT/9//9fR1y1P/z//98VO7U/+v//v0k7tT/6//+fLQ21Pw==",
          "dtype": "f8"
         },
         "yaxis": "y3"
        },
        {
         "legendgroup": "9d91d65773834ceebf72c557073ac3e7",
         "line": {
          "color": "#EF553B"
         },
         "mode": "lines+markers",
         "name": "9d91d65773834ceebf72c557073ac3e7 : capsnet_lung_disease_classifier_krnl_7",
         "showlegend": false,
         "type": "scatter",
         "x": {
          "bdata": "AAECAwQFBgcICQoLDA0=",
          "dtype": "i1"
         },
         "xaxis": "x3",
         "y": {
          "bdata": "////v1r+zz8AAADgZ0/HP/3//1+1+sM//f///yrLwT/9//8/ci7AP/r///+WUb4/+v//31W+vD/8//8/lKu8P/v///85kLo/////n1Dltj/5//9/CMy1PwAAAKBxE7U/+f//X8PatD8AAACAz3C0Pw==",
          "dtype": "f8"
         },
         "yaxis": "y3"
        },
        {
         "legendgroup": "af22305e09b44dd686b2405b0f6c01d5",
         "line": {
          "color": "#636EFA"
         },
         "mode": "lines+markers",
         "name": "af22305e09b44dd686b2405b0f6c01d5 : capsnet_lung_disease_classifier_krnl_5",
         "showlegend": false,
         "type": "scatter",
         "x": {
          "bdata": "AAECAwQFBgcICQoLDA0ODw==",
          "dtype": "i1"
         },
         "xaxis": "x3",
         "y": {
          "bdata": "////P7Qu0D/+///f+KzIPwAAAABDFcU//f///+nKwj/9//9/wQbBP/z//3/1Qb8//v//3wrfvT/6//9/u7O9P/3//3+Ae7s//v//HwNAuj/+//+f8tS2P/z//58B3bU//v//fxdstT8AAADAJB61P/3//1/y0LQ/+////6sRtD8=",
          "dtype": "f8"
         },
         "yaxis": "y3"
        },
        {
         "legendgroup": "e3d8dc0572bd478a943b25901c2ade7f",
         "line": {
          "color": "#FFA15A"
         },
         "mode": "lines+markers",
         "name": "e3d8dc0572bd478a943b25901c2ade7f : capsnet_lung_disease_classifier_krnl11",
         "showlegend": false,
         "type": "scatter",
         "x": {
          "bdata": "AAECAwQFBgcICQoLDA0ODxAREhMUFQ==",
          "dtype": "i1"
         },
         "xaxis": "x3",
         "y": {
          "bdata": "AAAAYJwR0D/+///fbkrHP////1/KE8Q/////H2HjwT/+//8/znHAPwAAAGCGkL8/+v//PzUMuj/9//9/hMW4P////z/r3rc/+v//Hw2Ltz/6//9f/Pu2PwAAAAAxWrY//v//f94otj8AAAAgDFa2P/v//9/oGrY/+///P4P6tT/6///fUe21P/v//5/IvrU//f//P4gGtj/9//9fxca1PwAAAAA9w7U//P//f2uytT8=",
          "dtype": "f8"
         },
         "yaxis": "y3"
        },
        {
         "legendgroup": "f47f878a901e4e8c8cc28a72fa5da428",
         "line": {
          "color": "#00CC96"
         },
         "mode": "lines+markers",
         "name": "f47f878a901e4e8c8cc28a72fa5da428 : capsnet_lung_disease_classifier_krnl9",
         "showlegend": false,
         "type": "scatter",
         "x": {
          "bdata": "AAECAwQFBgcICQoLDA0=",
          "dtype": "i1"
         },
         "xaxis": "x3",
         "y": {
          "bdata": "AAAA4HsZ0D////+/lTvIPwAAAECM4MQ/////n0Jbwj8AAAAAO9DAPwAAAGCSLb8/+///H0JTvT8AAABgjo69PwAAAKBZT7s/////f0TOuT/6//+fu8y4PwAAAMA8q7U/////n9avtD/9///f4YS0Pw==",
          "dtype": "f8"
         },
         "yaxis": "y3"
        },
        {
         "legendgroup": "fe8c97578d10496c8439e6996296704a",
         "line": {
          "color": "#19D3F3"
         },
         "mode": "lines+markers",
         "name": "fe8c97578d10496c8439e6996296704a : capsnet_lung_disease_classifier_krnl10",
         "showlegend": false,
         "type": "scatter",
         "x": {
          "bdata": "AAECAwQFBgcICQoLDA0ODxAREhMUFQ==",
          "dtype": "i1"
         },
         "xaxis": "x3",
         "y": {
          "bdata": "////X+vWzz////9fssLGP////58Rr8M/////X7SqwT/9//8fpRzAP////z8DSL4/AAAAYBjwvD/+////0Wa8P/z//78yA7w//P//X3PwvT/6//9/RUG4PwAAAAA5Krc/+///P3eQtj////+/yge2P/3//5+MlrU//v//f3QTtT/5//9/igS1P/z//98N57Q/+///v9jEtD/+//8/G7i0P/3//98iuLQ//P//33t4tD8=",
          "dtype": "f8"
         },
         "yaxis": "y3"
        },
        {
         "legendgroup": "268d83f2b327496d944c36ec4021cd55",
         "line": {
          "color": "#AB63FA"
         },
         "mode": "lines+markers",
         "name": "268d83f2b327496d944c36ec4021cd55 : capsnet_lung_disease_classifier_krnl10",
         "showlegend": false,
         "type": "scatter",
         "x": {
          "bdata": "AAECAwQFBgcICQoLDA0ODxAREhM=",
          "dtype": "i1"
         },
         "xaxis": "x4",
         "y": {
          "bdata": "AAAAQL/yyD/+//9/4K3GP/7//39uL8c/AAAAYGk2wD/+//8/zjTDP/7//5/k7sI/////n/+Cvz/7//8/Rjm8P////599Sbw//v//H4lKuT/8///fVpa5P/v//58VgLk/////n85BuD////+fvoO3P/7//3+lULc/+////4JAtz/8///fdz23P/v//59WQrc/////HyAItz/+/////gq3Pw==",
          "dtype": "f8"
         },
         "yaxis": "y4"
        },
        {
         "legendgroup": "9d91d65773834ceebf72c557073ac3e7",
         "line": {
          "color": "#EF553B"
         },
         "mode": "lines+markers",
         "name": "9d91d65773834ceebf72c557073ac3e7 : capsnet_lung_disease_classifier_krnl_7",
         "showlegend": false,
         "type": "scatter",
         "x": {
          "bdata": "AAECAwQFBgcICQoLDA0=",
          "dtype": "i1"
         },
         "xaxis": "x4",
         "y": {
          "bdata": "/f//36CGyT/+///fPX7KP/7//5/e/8Q/AAAAQNXDwj8AAADAHj7CPwAAAMA2ocA//////7NzwD8AAAAgWSPBP/3//z/uPsM//f///+lsuD/9//8fK3K4P/3//9+Ur7g/AAAAQFVFtz/8//8fxb63Pw==",
          "dtype": "f8"
         },
         "yaxis": "y4"
        },
        {
         "legendgroup": "af22305e09b44dd686b2405b0f6c01d5",
         "line": {
          "color": "#636EFA"
         },
         "mode": "lines+markers",
         "name": "af22305e09b44dd686b2405b0f6c01d5 : capsnet_lung_disease_classifier_krnl_5",
         "showlegend": false,
         "type": "scatter",
         "x": {
          "bdata": "AAECAwQFBgcICQoLDA0ODw==",
          "dtype": "i1"
         },
         "xaxis": "x4",
         "y": {
          "bdata": "/f//P/qWyT/+//9fYK3NP/7//3+pnsw/AAAAIE0xxD////+/m0/FPwAAAADPdcY/AAAAIISpwT8AAACAZ1rCP////588jcI/////H57WxD/+//8fWEq9P/r//9/bpro//f//v0vPuj/9///f7du7P/v//z9Glbk/////n8IquD8=",
          "dtype": "f8"
         },
         "yaxis": "y4"
        },
        {
         "legendgroup": "e3d8dc0572bd478a943b25901c2ade7f",
         "line": {
          "color": "#FFA15A"
         },
         "mode": "lines+markers",
         "name": "e3d8dc0572bd478a943b25901c2ade7f : capsnet_lung_disease_classifier_krnl11",
         "showlegend": false,
         "type": "scatter",
         "x": {
          "bdata": "AAECAwQFBgcICQoLDA0ODxAREhMUFQ==",
          "dtype": "i1"
         },
         "xaxis": "x4",
         "y": {
          "bdata": "AAAAAArdzz/9//9f8sTFP////x866sE/AAAAYElv7z8AAABgYc3BP////z/n8sA//P//v4sbvT/7//8f/bu9P/3//9+cfrs//f//vw5evD/8//+/yGC7P////79UTrc//f//XzdZtz////+fvmm3P/3//x+hLLc//P//X18htz/+//9fJze3P/n///8sMbc/+///nw3Ntj/9///fLgO3PwAAAEAMErc/AAAAoKbatj8=",
          "dtype": "f8"
         },
         "yaxis": "y4"
        },
        {
         "legendgroup": "f47f878a901e4e8c8cc28a72fa5da428",
         "line": {
          "color": "#00CC96"
         },
         "mode": "lines+markers",
         "name": "f47f878a901e4e8c8cc28a72fa5da428 : capsnet_lung_disease_classifier_krnl9",
         "showlegend": false,
         "type": "scatter",
         "x": {
          "bdata": "AAECAwQFBgcICQoLDA0=",
          "dtype": "i1"
         },
         "xaxis": "x4",
         "y": {
          "bdata": "/f//v4yhzz////8fsr3TPwAAAOAmd8Q/////35X1zT////9/SBHEP/7//19ekcE//v//HwG2wj/6//+/+DW+P/7//x+JaMA/+///n9gyvT/7//9fQme+P/v//99qqLc//f///1+uuD8AAABgYVu4Pw==",
          "dtype": "f8"
         },
         "yaxis": "y4"
        },
        {
         "legendgroup": "fe8c97578d10496c8439e6996296704a",
         "line": {
          "color": "#19D3F3"
         },
         "mode": "lines+markers",
         "name": "fe8c97578d10496c8439e6996296704a : capsnet_lung_disease_classifier_krnl10",
         "showlegend": false,
         "type": "scatter",
         "x": {
          "bdata": "AAECAwQFBgcICQoLDA0ODxAREhMUFQ==",
          "dtype": "i1"
         },
         "xaxis": "x4",
         "y": {
          "bdata": "/v//n/Tiyj////9/OPPNP////x/necQ/AAAAYJyPxT/+//8/j9nEP/7///8/kbw/////PzDmvT////8fYSvCPwEAACDTTf0/+v//n78Vuj/9//9fxW66PwAAAGCauLg//f//v+louD/+//9/2sS3P/7////VTbg/////P0DKtj8AAABgmr+2PwAAAEBht7Y/+///n07rtj/5//8fs7S2P/z//7/5o7Y/+v//356Ltj8=",
          "dtype": "f8"
         },
         "yaxis": "y4"
        },
        {
         "legendgroup": "268d83f2b327496d944c36ec4021cd55",
         "line": {
          "color": "#AB63FA"
         },
         "mode": "lines+markers",
         "name": "268d83f2b327496d944c36ec4021cd55 : capsnet_lung_disease_classifier_krnl10",
         "showlegend": false,
         "type": "scatter",
         "x": {
          "bdata": "AAECAwQFBgcICQoLDA0ODxAREhM=",
          "dtype": "i1"
         },
         "xaxis": "x5",
         "y": {
          "bdata": "AAAA4OI2Gj8AAADg4jYaPwAAAODiNho/AAAA4OI2Gj8AAADg4jYaPwAAAODiNho/AAAA4OI2Gj8AAACAtfjkPgAAAIC1+OQ+AAAAgLX45D4AAACAtfjkPgAAAIC1+OQ+AAAAgLX45D4AAACg98awPgAAAKD3xrA+AAAAoPfGsD4AAACg98awPgAAAKD3xrA+AAAAoPfGsD4AAACg98awPg==",
          "dtype": "f8"
         },
         "yaxis": "y5"
        },
        {
         "legendgroup": "9d91d65773834ceebf72c557073ac3e7",
         "line": {
          "color": "#EF553B"
         },
         "mode": "lines+markers",
         "name": "9d91d65773834ceebf72c557073ac3e7 : capsnet_lung_disease_classifier_krnl_7",
         "showlegend": false,
         "type": "scatter",
         "x": {
          "bdata": "AAECAwQFBgcICQoLDA0=",
          "dtype": "i1"
         },
         "xaxis": "x5",
         "y": {
          "bdata": "AAAA4OI2Gj8AAADg4jYaPwAAAODiNho/AAAA4OI2Gj8AAADg4jYaPwAAAODiNho/AAAA4OI2Gj8AAADg4jYaPwAAAODiNho/AAAAgLX45D4AAACAtfjkPgAAAIC1+OQ+AAAAgLX45D4AAACAtfjkPg==",
          "dtype": "f8"
         },
         "yaxis": "y5"
        },
        {
         "legendgroup": "af22305e09b44dd686b2405b0f6c01d5",
         "line": {
          "color": "#636EFA"
         },
         "mode": "lines+markers",
         "name": "af22305e09b44dd686b2405b0f6c01d5 : capsnet_lung_disease_classifier_krnl_5",
         "showlegend": false,
         "type": "scatter",
         "x": {
          "bdata": "AAECAwQFBgcICQoLDA0ODw==",
          "dtype": "i1"
         },
         "xaxis": "x5",
         "y": {
          "bdata": "AAAA4OI2Gj8AAADg4jYaPwAAAODiNho/AAAA4OI2Gj8AAADg4jYaPwAAAODiNho/AAAA4OI2Gj8AAADg4jYaPwAAAODiNho/AAAA4OI2Gj8AAACAtfjkPgAAAIC1+OQ+AAAAgLX45D4AAACAtfjkPgAAAIC1+OQ+AAAAoPfGsD4=",
          "dtype": "f8"
         },
         "yaxis": "y5"
        },
        {
         "legendgroup": "e3d8dc0572bd478a943b25901c2ade7f",
         "line": {
          "color": "#FFA15A"
         },
         "mode": "lines+markers",
         "name": "e3d8dc0572bd478a943b25901c2ade7f : capsnet_lung_disease_classifier_krnl11",
         "showlegend": false,
         "type": "scatter",
         "x": {
          "bdata": "AAECAwQFBgcICQoLDA0ODxAREhMUFQ==",
          "dtype": "i1"
         },
         "xaxis": "x5",
         "y": {
          "bdata": "AAAA4OI2Gj8AAADg4jYaPwAAAODiNho/AAAA4OI2Gj8AAADg4jYaPwAAAODiNho/AAAAgLX45D4AAACAtfjkPgAAAIC1+OQ+AAAAgLX45D4AAACAtfjkPgAAAKD3xrA+AAAAoPfGsD4AAACg98awPgAAAKD3xrA+AAAAoPfGsD4AAACg98awPgAAAKD3xrA+AAAAoPfGsD4AAACg98awPgAAAKD3xrA+AAAAoPfGsD4=",
          "dtype": "f8"
         },
         "yaxis": "y5"
        },
        {
         "legendgroup": "f47f878a901e4e8c8cc28a72fa5da428",
         "line": {
          "color": "#00CC96"
         },
         "mode": "lines+markers",
         "name": "f47f878a901e4e8c8cc28a72fa5da428 : capsnet_lung_disease_classifier_krnl9",
         "showlegend": false,
         "type": "scatter",
         "x": {
          "bdata": "AAECAwQFBgcICQoLDA0=",
          "dtype": "i1"
         },
         "xaxis": "x5",
         "y": {
          "bdata": "AAAA4OI2Gj8AAADg4jYaPwAAAODiNho/AAAA4OI2Gj8AAADg4jYaPwAAAODiNho/AAAA4OI2Gj8AAADg4jYaPwAAAODiNho/AAAA4OI2Gj8AAADg4jYaPwAAAIC1+OQ+AAAAgLX45D4AAACAtfjkPg==",
          "dtype": "f8"
         },
         "yaxis": "y5"
        },
        {
         "legendgroup": "fe8c97578d10496c8439e6996296704a",
         "line": {
          "color": "#19D3F3"
         },
         "mode": "lines+markers",
         "name": "fe8c97578d10496c8439e6996296704a : capsnet_lung_disease_classifier_krnl10",
         "showlegend": false,
         "type": "scatter",
         "x": {
          "bdata": "AAECAwQFBgcICQoLDA0ODxAREhMUFQ==",
          "dtype": "i1"
         },
         "xaxis": "x5",
         "y": {
          "bdata": "AAAA4OI2Gj8AAADg4jYaPwAAAODiNho/AAAA4OI2Gj8AAADg4jYaPwAAAODiNho/AAAA4OI2Gj8AAADg4jYaPwAAAODiNho/AAAAgLX45D4AAACAtfjkPgAAAIC1+OQ+AAAAgLX45D4AAACAtfjkPgAAAIC1+OQ+AAAAoPfGsD4AAACg98awPgAAAKD3xrA+AAAAoPfGsD4AAACg98awPgAAAKD3xrA+AAAAoPfGsD4=",
          "dtype": "f8"
         },
         "yaxis": "y5"
        }
       ],
       "layout": {
        "annotations": [
         {
          "font": {
           "size": 16
          },
          "showarrow": false,
          "text": "accuracy",
          "x": 0.5,
          "xanchor": "center",
          "xref": "paper",
          "y": 1,
          "yanchor": "bottom",
          "yref": "paper"
         },
         {
          "font": {
           "size": 16
          },
          "showarrow": false,
          "text": "val_accuracy",
          "x": 0.5,
          "xanchor": "center",
          "xref": "paper",
          "y": 0.79,
          "yanchor": "bottom",
          "yref": "paper"
         },
         {
          "font": {
           "size": 16
          },
          "showarrow": false,
          "text": "loss",
          "x": 0.5,
          "xanchor": "center",
          "xref": "paper",
          "y": 0.5800000000000001,
          "yanchor": "bottom",
          "yref": "paper"
         },
         {
          "font": {
           "size": 16
          },
          "showarrow": false,
          "text": "val_loss",
          "x": 0.5,
          "xanchor": "center",
          "xref": "paper",
          "y": 0.37,
          "yanchor": "bottom",
          "yref": "paper"
         },
         {
          "font": {
           "size": 16
          },
          "showarrow": false,
          "text": "learning_rate",
          "x": 0.5,
          "xanchor": "center",
          "xref": "paper",
          "y": 0.16,
          "yanchor": "bottom",
          "yref": "paper"
         }
        ],
        "height": 2000,
        "template": {
         "data": {
          "bar": [
           {
            "error_x": {
             "color": "#2a3f5f"
            },
            "error_y": {
             "color": "#2a3f5f"
            },
            "marker": {
             "line": {
              "color": "#E5ECF6",
              "width": 0.5
             },
             "pattern": {
              "fillmode": "overlay",
              "size": 10,
              "solidity": 0.2
             }
            },
            "type": "bar"
           }
          ],
          "barpolar": [
           {
            "marker": {
             "line": {
              "color": "#E5ECF6",
              "width": 0.5
             },
             "pattern": {
              "fillmode": "overlay",
              "size": 10,
              "solidity": 0.2
             }
            },
            "type": "barpolar"
           }
          ],
          "carpet": [
           {
            "aaxis": {
             "endlinecolor": "#2a3f5f",
             "gridcolor": "white",
             "linecolor": "white",
             "minorgridcolor": "white",
             "startlinecolor": "#2a3f5f"
            },
            "baxis": {
             "endlinecolor": "#2a3f5f",
             "gridcolor": "white",
             "linecolor": "white",
             "minorgridcolor": "white",
             "startlinecolor": "#2a3f5f"
            },
            "type": "carpet"
           }
          ],
          "choropleth": [
           {
            "colorbar": {
             "outlinewidth": 0,
             "ticks": ""
            },
            "type": "choropleth"
           }
          ],
          "contour": [
           {
            "colorbar": {
             "outlinewidth": 0,
             "ticks": ""
            },
            "colorscale": [
             [
              0,
              "#0d0887"
             ],
             [
              0.1111111111111111,
              "#46039f"
             ],
             [
              0.2222222222222222,
              "#7201a8"
             ],
             [
              0.3333333333333333,
              "#9c179e"
             ],
             [
              0.4444444444444444,
              "#bd3786"
             ],
             [
              0.5555555555555556,
              "#d8576b"
             ],
             [
              0.6666666666666666,
              "#ed7953"
             ],
             [
              0.7777777777777778,
              "#fb9f3a"
             ],
             [
              0.8888888888888888,
              "#fdca26"
             ],
             [
              1,
              "#f0f921"
             ]
            ],
            "type": "contour"
           }
          ],
          "contourcarpet": [
           {
            "colorbar": {
             "outlinewidth": 0,
             "ticks": ""
            },
            "type": "contourcarpet"
           }
          ],
          "heatmap": [
           {
            "colorbar": {
             "outlinewidth": 0,
             "ticks": ""
            },
            "colorscale": [
             [
              0,
              "#0d0887"
             ],
             [
              0.1111111111111111,
              "#46039f"
             ],
             [
              0.2222222222222222,
              "#7201a8"
             ],
             [
              0.3333333333333333,
              "#9c179e"
             ],
             [
              0.4444444444444444,
              "#bd3786"
             ],
             [
              0.5555555555555556,
              "#d8576b"
             ],
             [
              0.6666666666666666,
              "#ed7953"
             ],
             [
              0.7777777777777778,
              "#fb9f3a"
             ],
             [
              0.8888888888888888,
              "#fdca26"
             ],
             [
              1,
              "#f0f921"
             ]
            ],
            "type": "heatmap"
           }
          ],
          "histogram": [
           {
            "marker": {
             "pattern": {
              "fillmode": "overlay",
              "size": 10,
              "solidity": 0.2
             }
            },
            "type": "histogram"
           }
          ],
          "histogram2d": [
           {
            "colorbar": {
             "outlinewidth": 0,
             "ticks": ""
            },
            "colorscale": [
             [
              0,
              "#0d0887"
             ],
             [
              0.1111111111111111,
              "#46039f"
             ],
             [
              0.2222222222222222,
              "#7201a8"
             ],
             [
              0.3333333333333333,
              "#9c179e"
             ],
             [
              0.4444444444444444,
              "#bd3786"
             ],
             [
              0.5555555555555556,
              "#d8576b"
             ],
             [
              0.6666666666666666,
              "#ed7953"
             ],
             [
              0.7777777777777778,
              "#fb9f3a"
             ],
             [
              0.8888888888888888,
              "#fdca26"
             ],
             [
              1,
              "#f0f921"
             ]
            ],
            "type": "histogram2d"
           }
          ],
          "histogram2dcontour": [
           {
            "colorbar": {
             "outlinewidth": 0,
             "ticks": ""
            },
            "colorscale": [
             [
              0,
              "#0d0887"
             ],
             [
              0.1111111111111111,
              "#46039f"
             ],
             [
              0.2222222222222222,
              "#7201a8"
             ],
             [
              0.3333333333333333,
              "#9c179e"
             ],
             [
              0.4444444444444444,
              "#bd3786"
             ],
             [
              0.5555555555555556,
              "#d8576b"
             ],
             [
              0.6666666666666666,
              "#ed7953"
             ],
             [
              0.7777777777777778,
              "#fb9f3a"
             ],
             [
              0.8888888888888888,
              "#fdca26"
             ],
             [
              1,
              "#f0f921"
             ]
            ],
            "type": "histogram2dcontour"
           }
          ],
          "mesh3d": [
           {
            "colorbar": {
             "outlinewidth": 0,
             "ticks": ""
            },
            "type": "mesh3d"
           }
          ],
          "parcoords": [
           {
            "line": {
             "colorbar": {
              "outlinewidth": 0,
              "ticks": ""
             }
            },
            "type": "parcoords"
           }
          ],
          "pie": [
           {
            "automargin": true,
            "type": "pie"
           }
          ],
          "scatter": [
           {
            "fillpattern": {
             "fillmode": "overlay",
             "size": 10,
             "solidity": 0.2
            },
            "type": "scatter"
           }
          ],
          "scatter3d": [
           {
            "line": {
             "colorbar": {
              "outlinewidth": 0,
              "ticks": ""
             }
            },
            "marker": {
             "colorbar": {
              "outlinewidth": 0,
              "ticks": ""
             }
            },
            "type": "scatter3d"
           }
          ],
          "scattercarpet": [
           {
            "marker": {
             "colorbar": {
              "outlinewidth": 0,
              "ticks": ""
             }
            },
            "type": "scattercarpet"
           }
          ],
          "scattergeo": [
           {
            "marker": {
             "colorbar": {
              "outlinewidth": 0,
              "ticks": ""
             }
            },
            "type": "scattergeo"
           }
          ],
          "scattergl": [
           {
            "marker": {
             "colorbar": {
              "outlinewidth": 0,
              "ticks": ""
             }
            },
            "type": "scattergl"
           }
          ],
          "scattermap": [
           {
            "marker": {
             "colorbar": {
              "outlinewidth": 0,
              "ticks": ""
             }
            },
            "type": "scattermap"
           }
          ],
          "scattermapbox": [
           {
            "marker": {
             "colorbar": {
              "outlinewidth": 0,
              "ticks": ""
             }
            },
            "type": "scattermapbox"
           }
          ],
          "scatterpolar": [
           {
            "marker": {
             "colorbar": {
              "outlinewidth": 0,
              "ticks": ""
             }
            },
            "type": "scatterpolar"
           }
          ],
          "scatterpolargl": [
           {
            "marker": {
             "colorbar": {
              "outlinewidth": 0,
              "ticks": ""
             }
            },
            "type": "scatterpolargl"
           }
          ],
          "scatterternary": [
           {
            "marker": {
             "colorbar": {
              "outlinewidth": 0,
              "ticks": ""
             }
            },
            "type": "scatterternary"
           }
          ],
          "surface": [
           {
            "colorbar": {
             "outlinewidth": 0,
             "ticks": ""
            },
            "colorscale": [
             [
              0,
              "#0d0887"
             ],
             [
              0.1111111111111111,
              "#46039f"
             ],
             [
              0.2222222222222222,
              "#7201a8"
             ],
             [
              0.3333333333333333,
              "#9c179e"
             ],
             [
              0.4444444444444444,
              "#bd3786"
             ],
             [
              0.5555555555555556,
              "#d8576b"
             ],
             [
              0.6666666666666666,
              "#ed7953"
             ],
             [
              0.7777777777777778,
              "#fb9f3a"
             ],
             [
              0.8888888888888888,
              "#fdca26"
             ],
             [
              1,
              "#f0f921"
             ]
            ],
            "type": "surface"
           }
          ],
          "table": [
           {
            "cells": {
             "fill": {
              "color": "#EBF0F8"
             },
             "line": {
              "color": "white"
             }
            },
            "header": {
             "fill": {
              "color": "#C8D4E3"
             },
             "line": {
              "color": "white"
             }
            },
            "type": "table"
           }
          ]
         },
         "layout": {
          "annotationdefaults": {
           "arrowcolor": "#2a3f5f",
           "arrowhead": 0,
           "arrowwidth": 1
          },
          "autotypenumbers": "strict",
          "coloraxis": {
           "colorbar": {
            "outlinewidth": 0,
            "ticks": ""
           }
          },
          "colorscale": {
           "diverging": [
            [
             0,
             "#8e0152"
            ],
            [
             0.1,
             "#c51b7d"
            ],
            [
             0.2,
             "#de77ae"
            ],
            [
             0.3,
             "#f1b6da"
            ],
            [
             0.4,
             "#fde0ef"
            ],
            [
             0.5,
             "#f7f7f7"
            ],
            [
             0.6,
             "#e6f5d0"
            ],
            [
             0.7,
             "#b8e186"
            ],
            [
             0.8,
             "#7fbc41"
            ],
            [
             0.9,
             "#4d9221"
            ],
            [
             1,
             "#276419"
            ]
           ],
           "sequential": [
            [
             0,
             "#0d0887"
            ],
            [
             0.1111111111111111,
             "#46039f"
            ],
            [
             0.2222222222222222,
             "#7201a8"
            ],
            [
             0.3333333333333333,
             "#9c179e"
            ],
            [
             0.4444444444444444,
             "#bd3786"
            ],
            [
             0.5555555555555556,
             "#d8576b"
            ],
            [
             0.6666666666666666,
             "#ed7953"
            ],
            [
             0.7777777777777778,
             "#fb9f3a"
            ],
            [
             0.8888888888888888,
             "#fdca26"
            ],
            [
             1,
             "#f0f921"
            ]
           ],
           "sequentialminus": [
            [
             0,
             "#0d0887"
            ],
            [
             0.1111111111111111,
             "#46039f"
            ],
            [
             0.2222222222222222,
             "#7201a8"
            ],
            [
             0.3333333333333333,
             "#9c179e"
            ],
            [
             0.4444444444444444,
             "#bd3786"
            ],
            [
             0.5555555555555556,
             "#d8576b"
            ],
            [
             0.6666666666666666,
             "#ed7953"
            ],
            [
             0.7777777777777778,
             "#fb9f3a"
            ],
            [
             0.8888888888888888,
             "#fdca26"
            ],
            [
             1,
             "#f0f921"
            ]
           ]
          },
          "colorway": [
           "#636efa",
           "#EF553B",
           "#00cc96",
           "#ab63fa",
           "#FFA15A",
           "#19d3f3",
           "#FF6692",
           "#B6E880",
           "#FF97FF",
           "#FECB52"
          ],
          "font": {
           "color": "#2a3f5f"
          },
          "geo": {
           "bgcolor": "white",
           "lakecolor": "white",
           "landcolor": "#E5ECF6",
           "showlakes": true,
           "showland": true,
           "subunitcolor": "white"
          },
          "hoverlabel": {
           "align": "left"
          },
          "hovermode": "closest",
          "mapbox": {
           "style": "light"
          },
          "paper_bgcolor": "white",
          "plot_bgcolor": "#E5ECF6",
          "polar": {
           "angularaxis": {
            "gridcolor": "white",
            "linecolor": "white",
            "ticks": ""
           },
           "bgcolor": "#E5ECF6",
           "radialaxis": {
            "gridcolor": "white",
            "linecolor": "white",
            "ticks": ""
           }
          },
          "scene": {
           "xaxis": {
            "backgroundcolor": "#E5ECF6",
            "gridcolor": "white",
            "gridwidth": 2,
            "linecolor": "white",
            "showbackground": true,
            "ticks": "",
            "zerolinecolor": "white"
           },
           "yaxis": {
            "backgroundcolor": "#E5ECF6",
            "gridcolor": "white",
            "gridwidth": 2,
            "linecolor": "white",
            "showbackground": true,
            "ticks": "",
            "zerolinecolor": "white"
           },
           "zaxis": {
            "backgroundcolor": "#E5ECF6",
            "gridcolor": "white",
            "gridwidth": 2,
            "linecolor": "white",
            "showbackground": true,
            "ticks": "",
            "zerolinecolor": "white"
           }
          },
          "shapedefaults": {
           "line": {
            "color": "#2a3f5f"
           }
          },
          "ternary": {
           "aaxis": {
            "gridcolor": "white",
            "linecolor": "white",
            "ticks": ""
           },
           "baxis": {
            "gridcolor": "white",
            "linecolor": "white",
            "ticks": ""
           },
           "bgcolor": "#E5ECF6",
           "caxis": {
            "gridcolor": "white",
            "linecolor": "white",
            "ticks": ""
           }
          },
          "title": {
           "x": 0.05
          },
          "xaxis": {
           "automargin": true,
           "gridcolor": "white",
           "linecolor": "white",
           "ticks": "",
           "title": {
            "standoff": 15
           },
           "zerolinecolor": "white",
           "zerolinewidth": 2
          },
          "yaxis": {
           "automargin": true,
           "gridcolor": "white",
           "linecolor": "white",
           "ticks": "",
           "title": {
            "standoff": 15
           },
           "zerolinecolor": "white",
           "zerolinewidth": 2
          }
         }
        },
        "title": {
         "text": "Training Metrics by Epoch and Run ID"
        },
        "width": 1400,
        "xaxis": {
         "anchor": "y",
         "domain": [
          0,
          1
         ],
         "matches": "x5",
         "showticklabels": false,
         "title": {
          "text": "Epoch"
         }
        },
        "xaxis2": {
         "anchor": "y2",
         "domain": [
          0,
          1
         ],
         "matches": "x5",
         "showticklabels": false
        },
        "xaxis3": {
         "anchor": "y3",
         "domain": [
          0,
          1
         ],
         "matches": "x5",
         "showticklabels": false
        },
        "xaxis4": {
         "anchor": "y4",
         "domain": [
          0,
          1
         ],
         "matches": "x5",
         "showticklabels": false
        },
        "xaxis5": {
         "anchor": "y5",
         "domain": [
          0,
          1
         ]
        },
        "yaxis": {
         "anchor": "x",
         "domain": [
          0.8400000000000001,
          1
         ]
        },
        "yaxis2": {
         "anchor": "x2",
         "domain": [
          0.63,
          0.79
         ]
        },
        "yaxis3": {
         "anchor": "x3",
         "domain": [
          0.42000000000000004,
          0.5800000000000001
         ]
        },
        "yaxis4": {
         "anchor": "x4",
         "domain": [
          0.21000000000000002,
          0.37
         ]
        },
        "yaxis5": {
         "anchor": "x5",
         "domain": [
          0,
          0.16
         ],
         "tickformat": ".0e",
         "tickvals": [
          1e-7,
          0.000001,
          0.00001,
          0.0001,
          0.001
         ],
         "title": {
          "text": "Learning Rate (log)"
         },
         "type": "log"
        }
       }
      }
     },
     "metadata": {},
     "output_type": "display_data"
    },
    {
     "data": {
      "text/plain": [
       "'\\n* based on the graphics below only a set of models will be selected for test run on unkbnown dataset \\n* the best candidates are models with run_ids: 268..cd55, dff..798a, fe8..704a \\n'"
      ]
     },
     "execution_count": 14,
     "metadata": {},
     "output_type": "execute_result"
    }
   ],
   "source": [
    "#show training history by run_id from csv \n",
    "\n",
    "metric_csv_file_path = os.path.join(PROJECT_DIR, \"csv_files\", \"disease_prediction\", \"capsnet_metrics_all_runs.csv\")\n",
    "df = pd.read_csv(metric_csv_file_path)\n",
    "df.to_csv(metric_csv_file_path, index=False)\n",
    "dh.show_training_history_from_csv(metric_csv_file_path)\n",
    "\n",
    "\n",
    "\"\"\"\n",
    "* based on the graphics below only a set of models will be selected for test run on unkbnown dataset \n",
    "* the best candidates are models with run_ids: 268..cd55, dff..798a, fe8..704a \n",
    "\"\"\"\n"
   ]
  },
  {
   "cell_type": "code",
   "execution_count": 14,
   "metadata": {},
   "outputs": [],
   "source": [
    "# ----predict on dataset unknown to the model------------\n",
    "\n",
    "mlruns_capsnet_uri = Path(os.path.join(PROJECT_DIR, \"mlruns_capsnet\")).as_uri()\n",
    "mlruns_capsnet_dir = os.path.join(PROJECT_DIR, \"mlruns_capsnet\")\n",
    "dh.set_mlflow_tracking(mlruns_capsnet_uri)\n",
    "experiment_id=\"923962217935764323\"\n",
    "\n",
    "#only for active runs\n",
    "run_ids = dh.get_run_ids(experiment_id) #only for active runs\n",
    "\n",
    "dataset_dir = os.path.join(PROJECT_DIR, \"data_256x256\", \"for_disease_classification\", \"masked\", \"unknown_to_the_model\", \"labeled_for_test\")\n",
    "#dataset_dir = os.path.join(PROJECT_DIR, \"data_256x256\", \"for_disease_classification\", \"masked\", \"unknown_to_the_model\", \"short_test_set\")\n",
    "\n",
    "list_df_pred = []\n",
    "df_predicted = None\n",
    "for run_id in run_ids:\n",
    "\n",
    "    model_path = os.path.join(mlruns_capsnet_dir, f\"{experiment_id}\", f\"{run_id}\", \"artifacts\", \"model\", \"data\", \"model.keras\")\n",
    "    # utilizer object with loaded model from path\n",
    "    u = ModelUtilizer(model_type=mt.CAPSNET, input_shape=(256,256,3), alt_model_path=model_path, custom_objects=capsnet_custom_objects)\n",
    "    # prediction csv path\n",
    "    csv_path = os.path.join(PROJECT_DIR, \"csv_files\", \"disease_prediction\", f\"test_on_unknown_dataset_{u.model_name}.csv\")\n",
    "     \n",
    "    df_predicted, time_spent = u.predict_on_dataset(dataset_type=dt.TEST, \n",
    "                                                    dataset_dir=dataset_dir,\n",
    "                                                    class_to_label_map=class_to_disease_map, \n",
    "                                                    csv_output_path=csv_path)\n",
    "    \n",
    "    df_predicted.to_csv(csv_path, index=False)\n",
    "    list_df_pred.append(df_predicted)\n",
    "    u.show_classification_report(df_predicted, title=u.model_name, normalize_cm=None, labels=disease_labels)\n",
    "\n",
    "\n",
    "    \n",
    "\n"
   ]
  },
  {
   "cell_type": "code",
   "execution_count": null,
   "metadata": {},
   "outputs": [],
   "source": [
    "#------------determine the best model from test prediction results\n",
    "\n",
    "# load all csv data to one df \n",
    "df = None\n",
    "csv_dir = os.path.join(PROJECT_DIR, \"csv_files\", \"disease_prediction\")\n",
    "out_path = os.path.join(PROJECT_DIR, \"csv_files\", \"disease_prediction\", f\"test_on_unknown_dataset_all_capsnet_models.csv\")\n",
    "\n",
    "csv_files = [\n",
    "    f for f in os.listdir(csv_dir)\n",
    "    if f.endswith(\".csv\") and \"_krnl\" in f\n",
    "]\n",
    "\n",
    "# List to collect individual DataFrames\n",
    "dataframes = []\n",
    "\n",
    "# Load each CSV, tag with model name, and append to list\n",
    "for filename in csv_files:\n",
    "    file_path = os.path.join(csv_dir, filename)\n",
    "    df = pd.read_csv(file_path)\n",
    "    # Add a 'model' column with the filename (without .csv)\n",
    "    model_name = os.path.splitext(filename)[0]\n",
    "    df['model'] = model_name\n",
    "    \n",
    "\n",
    "    dataframes.append(df)\n",
    "\n",
    "# Merge all DataFrames into one ansd save\n",
    "df_merged = pd.concat(dataframes, ignore_index=True)\n",
    "df_merged.to_csv(out_path, index=False)\n",
    "\n",
    "# Filter rows where prediction was correct\n",
    "correct_preds = df_merged[df_merged['true_label'] == df_merged['predicted_label']]\n",
    "\n",
    "# Group by model and true_label\n",
    "correct_counts_per_label = (\n",
    "    correct_preds\n",
    "    .groupby(['model', 'true_label'])\n",
    "    .size()\n",
    "    .reset_index(name='correct_count')\n",
    "    .sort_values(by=['model', 'true_label'])\n",
    ")\n",
    "\n",
    "# Display result\n",
    "display(correct_counts_per_label.head(50))\n",
    "\n",
    "\n",
    "#determine \n",
    "correct_preds_per_model = (\n",
    "    correct_preds\n",
    "    .groupby(['model'])\n",
    "    .size()\n",
    "    .reset_index(name='true_positives')\n",
    "    .sort_values(by=['true_positives'], ascending=False)\n",
    ")\n",
    "display(correct_preds_per_model)\n",
    "\n",
    "\n"
   ]
  },
  {
   "cell_type": "code",
   "execution_count": 13,
   "metadata": {},
   "outputs": [
    {
     "name": "stdout",
     "output_type": "stream",
     "text": [
      "Classification report for knl10_keras: best for COVID & best over all\n",
      "                 precision    recall  f1-score   support\n",
      "\n",
      "          COVID       0.90      0.69      0.78      1074\n",
      "   Lung_Opacity       0.00      0.00      0.00         0\n",
      "         Normal       0.77      0.91      0.83      1525\n",
      "Viral Pneumonia       1.00      0.83      0.91      1525\n",
      "\n",
      "       accuracy                           0.82      4124\n",
      "      macro avg       0.67      0.61      0.63      4124\n",
      "   weighted avg       0.89      0.82      0.85      4124\n",
      "\n"
     ]
    },
    {
     "data": {
      "image/png": "[encoded data removed]",
      "text/plain": [
       "<Figure size 640x480 with 2 Axes>"
      ]
     },
     "metadata": {},
     "output_type": "display_data"
    }
   ],
   "source": [
    "\n",
    "\"\"\"considering the result before:\n",
    "\n",
    "\ttest_on_unknown_dataset_capsnet_lung_disease_classifier_krnl10.keras : is best over all accuracy & best accuracy for COVID class\n",
    "        \n",
    "\"\"\"\n",
    "knl10_keras_path = os.path.join(PROJECT_DIR, \"csv_files\", \"disease_prediction\", \"test_on_unknown_dataset_capsnet_lung_disease_classifier_krnl10.keras.csv\")\n",
    "for p, t in [(knl10_keras_path,\"knl10_keras: best for COVID & best over all\"),]:\n",
    "    df = pd.read_csv(p)\n",
    "    ModelUtilizer.show_classification_report(df, title=t,  normalize_cm=\"pred\", labels=disease_labels)"
   ]
  },
  {
   "cell_type": "code",
   "execution_count": null,
   "metadata": {},
   "outputs": [],
   "source": []
  },
  {
   "cell_type": "code",
   "execution_count": null,
   "metadata": {},
   "outputs": [],
   "source": []
  }
 ],
 "metadata": {
  "accelerator": "GPU",
  "colab": {
   "authorship_tag": "ABX9TyNhe2DU10RvECuIKpLCQaA3",
   "gpuType": "A100",
   "mount_file_id": "1OiZ5rBKvC0c-X_1eawjFeQQE4KemzNWC",
   "provenance": []
  },
  "kernelspec": {
   "display_name": "env_covid19",
   "language": "python",
   "name": "python3"
  },
  "language_info": {
   "codemirror_mode": {
    "name": "ipython",
    "version": 3
   },
   "file_extension": ".py",
   "mimetype": "text/x-python",
   "name": "python",
   "nbconvert_exporter": "python",
   "pygments_lexer": "ipython3",
   "version": "3.12.7"
  }
 },
 "nbformat": 4,
 "nbformat_minor": 0
}
